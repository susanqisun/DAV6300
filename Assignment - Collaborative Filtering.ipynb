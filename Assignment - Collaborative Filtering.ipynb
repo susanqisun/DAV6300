{
 "cells": [
  {
   "cell_type": "markdown",
   "metadata": {},
   "source": [
    "# Assignment - Collaborative Filtering\n",
    "\n",
    "- by Qi Sun\n",
    "\n",
    "The requirements of this assignment are:\n",
    "\n",
    "\"Your task is to try different similarity methods: jaccard and centered-cosine (pearson’s)\n",
    "\n",
    "You should implement using both user-user and item-item collaborative filtering.\n",
    "\n",
    "You should implement using both (1) 1 to 5 ratings, and (2) 0 for ratings 1, 2, or 3, and 1 for ratings 4 and 5.\n",
    "\n",
    "The above means that you’ll try 8 different methods!\"\n",
    "\n",
    "I build recommenders for this assignment by borrowing codes from:\n",
    "\n",
    "https://github.com/Arvind-Maan/Reco-Me/blob/master/movie_recommendation.py\n",
    "\n",
    "\n",
    "I made some changes to the original codes based on the assignment requirements and my dataset. \n",
    "\n",
    "\n",
    "# Prepare data"
   ]
  },
  {
   "cell_type": "code",
   "execution_count": 252,
   "metadata": {
    "ExecuteTime": {
     "end_time": "2021-02-24T17:50:49.507721Z",
     "start_time": "2021-02-24T17:50:49.009091Z"
    }
   },
   "outputs": [
    {
     "data": {
      "text/html": [
       "<div>\n",
       "<style scoped>\n",
       "    .dataframe tbody tr th:only-of-type {\n",
       "        vertical-align: middle;\n",
       "    }\n",
       "\n",
       "    .dataframe tbody tr th {\n",
       "        vertical-align: top;\n",
       "    }\n",
       "\n",
       "    .dataframe thead th {\n",
       "        text-align: right;\n",
       "    }\n",
       "</style>\n",
       "<table border=\"1\" class=\"dataframe\">\n",
       "  <thead>\n",
       "    <tr style=\"text-align: right;\">\n",
       "      <th></th>\n",
       "      <th>UserID</th>\n",
       "      <th>The Little Things</th>\n",
       "      <th>The White Tiger</th>\n",
       "      <th>The Dig</th>\n",
       "      <th>Soul</th>\n",
       "      <th>Wonder Woman 1984</th>\n",
       "      <th>Promising Young Woman</th>\n",
       "    </tr>\n",
       "  </thead>\n",
       "  <tbody>\n",
       "    <tr>\n",
       "      <th>0</th>\n",
       "      <td>1</td>\n",
       "      <td>3</td>\n",
       "      <td>4</td>\n",
       "      <td>5</td>\n",
       "      <td>Not Sure</td>\n",
       "      <td>1</td>\n",
       "      <td>3.0</td>\n",
       "    </tr>\n",
       "    <tr>\n",
       "      <th>1</th>\n",
       "      <td>2</td>\n",
       "      <td>Not Sure</td>\n",
       "      <td>Not Sure</td>\n",
       "      <td>4</td>\n",
       "      <td>5</td>\n",
       "      <td>5</td>\n",
       "      <td>4.0</td>\n",
       "    </tr>\n",
       "    <tr>\n",
       "      <th>2</th>\n",
       "      <td>3</td>\n",
       "      <td>5</td>\n",
       "      <td>4</td>\n",
       "      <td>5</td>\n",
       "      <td>5</td>\n",
       "      <td>3</td>\n",
       "      <td>4.0</td>\n",
       "    </tr>\n",
       "    <tr>\n",
       "      <th>3</th>\n",
       "      <td>4</td>\n",
       "      <td>Not Sure</td>\n",
       "      <td>Not Sure</td>\n",
       "      <td>Not Sure</td>\n",
       "      <td>3</td>\n",
       "      <td>4</td>\n",
       "      <td>5.0</td>\n",
       "    </tr>\n",
       "    <tr>\n",
       "      <th>4</th>\n",
       "      <td>5</td>\n",
       "      <td>5</td>\n",
       "      <td>5</td>\n",
       "      <td>4</td>\n",
       "      <td>3</td>\n",
       "      <td>4</td>\n",
       "      <td>2.0</td>\n",
       "    </tr>\n",
       "    <tr>\n",
       "      <th>5</th>\n",
       "      <td>6</td>\n",
       "      <td>3</td>\n",
       "      <td>2</td>\n",
       "      <td>NaN</td>\n",
       "      <td>3</td>\n",
       "      <td>4</td>\n",
       "      <td>5.0</td>\n",
       "    </tr>\n",
       "    <tr>\n",
       "      <th>6</th>\n",
       "      <td>7</td>\n",
       "      <td>NaN</td>\n",
       "      <td>1</td>\n",
       "      <td>NaN</td>\n",
       "      <td>NaN</td>\n",
       "      <td>4</td>\n",
       "      <td>NaN</td>\n",
       "    </tr>\n",
       "  </tbody>\n",
       "</table>\n",
       "</div>"
      ],
      "text/plain": [
       "   UserID The Little Things The White Tiger   The Dig      Soul  \\\n",
       "0       1                 3               4         5  Not Sure   \n",
       "1       2          Not Sure        Not Sure         4         5   \n",
       "2       3                 5               4         5         5   \n",
       "3       4          Not Sure        Not Sure  Not Sure         3   \n",
       "4       5                 5               5         4         3   \n",
       "5       6                 3               2       NaN         3   \n",
       "6       7               NaN               1       NaN       NaN   \n",
       "\n",
       "   Wonder Woman 1984  Promising Young Woman  \n",
       "0                  1                    3.0  \n",
       "1                  5                    4.0  \n",
       "2                  3                    4.0  \n",
       "3                  4                    5.0  \n",
       "4                  4                    2.0  \n",
       "5                  4                    5.0  \n",
       "6                  4                    NaN  "
      ]
     },
     "execution_count": 252,
     "metadata": {},
     "output_type": "execute_result"
    }
   ],
   "source": [
    "import pandas as pd\n",
    "import numpy as np\n",
    "\n",
    "# survey results\n",
    "df = pd.read_csv('https://raw.githubusercontent.com/susanqisun/DAV6300/main/movie%20recommender.csv')\n",
    "df\n"
   ]
  },
  {
   "cell_type": "code",
   "execution_count": 253,
   "metadata": {
    "ExecuteTime": {
     "end_time": "2021-02-24T17:50:53.036751Z",
     "start_time": "2021-02-24T17:50:52.972364Z"
    }
   },
   "outputs": [
    {
     "data": {
      "text/html": [
       "<div>\n",
       "<style scoped>\n",
       "    .dataframe tbody tr th:only-of-type {\n",
       "        vertical-align: middle;\n",
       "    }\n",
       "\n",
       "    .dataframe tbody tr th {\n",
       "        vertical-align: top;\n",
       "    }\n",
       "\n",
       "    .dataframe thead th {\n",
       "        text-align: right;\n",
       "    }\n",
       "</style>\n",
       "<table border=\"1\" class=\"dataframe\">\n",
       "  <thead>\n",
       "    <tr style=\"text-align: right;\">\n",
       "      <th></th>\n",
       "      <th>UserID</th>\n",
       "      <th>The Little Things</th>\n",
       "      <th>The White Tiger</th>\n",
       "      <th>The Dig</th>\n",
       "      <th>Soul</th>\n",
       "      <th>Wonder Woman 1984</th>\n",
       "      <th>Promising Young Woman</th>\n",
       "    </tr>\n",
       "  </thead>\n",
       "  <tbody>\n",
       "    <tr>\n",
       "      <th>0</th>\n",
       "      <td>1</td>\n",
       "      <td>3</td>\n",
       "      <td>4</td>\n",
       "      <td>5</td>\n",
       "      <td>NaN</td>\n",
       "      <td>1</td>\n",
       "      <td>3.0</td>\n",
       "    </tr>\n",
       "    <tr>\n",
       "      <th>1</th>\n",
       "      <td>2</td>\n",
       "      <td>NaN</td>\n",
       "      <td>NaN</td>\n",
       "      <td>4</td>\n",
       "      <td>5</td>\n",
       "      <td>5</td>\n",
       "      <td>4.0</td>\n",
       "    </tr>\n",
       "    <tr>\n",
       "      <th>2</th>\n",
       "      <td>3</td>\n",
       "      <td>5</td>\n",
       "      <td>4</td>\n",
       "      <td>5</td>\n",
       "      <td>5</td>\n",
       "      <td>3</td>\n",
       "      <td>4.0</td>\n",
       "    </tr>\n",
       "    <tr>\n",
       "      <th>3</th>\n",
       "      <td>4</td>\n",
       "      <td>NaN</td>\n",
       "      <td>NaN</td>\n",
       "      <td>NaN</td>\n",
       "      <td>3</td>\n",
       "      <td>4</td>\n",
       "      <td>5.0</td>\n",
       "    </tr>\n",
       "    <tr>\n",
       "      <th>4</th>\n",
       "      <td>5</td>\n",
       "      <td>5</td>\n",
       "      <td>5</td>\n",
       "      <td>4</td>\n",
       "      <td>3</td>\n",
       "      <td>4</td>\n",
       "      <td>2.0</td>\n",
       "    </tr>\n",
       "    <tr>\n",
       "      <th>5</th>\n",
       "      <td>6</td>\n",
       "      <td>3</td>\n",
       "      <td>2</td>\n",
       "      <td>NaN</td>\n",
       "      <td>3</td>\n",
       "      <td>4</td>\n",
       "      <td>5.0</td>\n",
       "    </tr>\n",
       "    <tr>\n",
       "      <th>6</th>\n",
       "      <td>7</td>\n",
       "      <td>NaN</td>\n",
       "      <td>1</td>\n",
       "      <td>NaN</td>\n",
       "      <td>NaN</td>\n",
       "      <td>4</td>\n",
       "      <td>NaN</td>\n",
       "    </tr>\n",
       "  </tbody>\n",
       "</table>\n",
       "</div>"
      ],
      "text/plain": [
       "   UserID The Little Things The White Tiger The Dig Soul  Wonder Woman 1984  \\\n",
       "0       1                 3               4       5  NaN                  1   \n",
       "1       2               NaN             NaN       4    5                  5   \n",
       "2       3                 5               4       5    5                  3   \n",
       "3       4               NaN             NaN     NaN    3                  4   \n",
       "4       5                 5               5       4    3                  4   \n",
       "5       6                 3               2     NaN    3                  4   \n",
       "6       7               NaN               1     NaN  NaN                  4   \n",
       "\n",
       "   Promising Young Woman  \n",
       "0                    3.0  \n",
       "1                    4.0  \n",
       "2                    4.0  \n",
       "3                    5.0  \n",
       "4                    2.0  \n",
       "5                    5.0  \n",
       "6                    NaN  "
      ]
     },
     "execution_count": 253,
     "metadata": {},
     "output_type": "execute_result"
    }
   ],
   "source": [
    "df02 = df.replace('Not Sure',np.NaN)\n",
    "df02"
   ]
  },
  {
   "cell_type": "code",
   "execution_count": 255,
   "metadata": {
    "ExecuteTime": {
     "end_time": "2021-02-24T17:51:52.371173Z",
     "start_time": "2021-02-24T17:51:51.863633Z"
    }
   },
   "outputs": [
    {
     "data": {
      "text/html": [
       "<div>\n",
       "<style scoped>\n",
       "    .dataframe tbody tr th:only-of-type {\n",
       "        vertical-align: middle;\n",
       "    }\n",
       "\n",
       "    .dataframe tbody tr th {\n",
       "        vertical-align: top;\n",
       "    }\n",
       "\n",
       "    .dataframe thead th {\n",
       "        text-align: right;\n",
       "    }\n",
       "</style>\n",
       "<table border=\"1\" class=\"dataframe\">\n",
       "  <thead>\n",
       "    <tr style=\"text-align: right;\">\n",
       "      <th></th>\n",
       "      <th>UserID</th>\n",
       "      <th>1st Max</th>\n",
       "      <th>Max1Value</th>\n",
       "      <th>2nd Max</th>\n",
       "      <th>Max2Value</th>\n",
       "      <th>3rd Max</th>\n",
       "      <th>Max3Value</th>\n",
       "    </tr>\n",
       "  </thead>\n",
       "  <tbody>\n",
       "    <tr>\n",
       "      <th>0</th>\n",
       "      <td>1</td>\n",
       "      <td>The Dig</td>\n",
       "      <td>5.0</td>\n",
       "      <td>The White Tiger</td>\n",
       "      <td>4.0</td>\n",
       "      <td>The Little Things</td>\n",
       "      <td>3.0</td>\n",
       "    </tr>\n",
       "    <tr>\n",
       "      <th>1</th>\n",
       "      <td>2</td>\n",
       "      <td>Soul</td>\n",
       "      <td>5.0</td>\n",
       "      <td>Wonder Woman 1984</td>\n",
       "      <td>5.0</td>\n",
       "      <td>The Dig</td>\n",
       "      <td>4.0</td>\n",
       "    </tr>\n",
       "    <tr>\n",
       "      <th>2</th>\n",
       "      <td>3</td>\n",
       "      <td>The Little Things</td>\n",
       "      <td>5.0</td>\n",
       "      <td>The Dig</td>\n",
       "      <td>5.0</td>\n",
       "      <td>Soul</td>\n",
       "      <td>5.0</td>\n",
       "    </tr>\n",
       "    <tr>\n",
       "      <th>3</th>\n",
       "      <td>4</td>\n",
       "      <td>Promising Young Woman</td>\n",
       "      <td>5.0</td>\n",
       "      <td>Wonder Woman 1984</td>\n",
       "      <td>4.0</td>\n",
       "      <td>Soul</td>\n",
       "      <td>3.0</td>\n",
       "    </tr>\n",
       "    <tr>\n",
       "      <th>4</th>\n",
       "      <td>5</td>\n",
       "      <td>The Little Things</td>\n",
       "      <td>5.0</td>\n",
       "      <td>The White Tiger</td>\n",
       "      <td>5.0</td>\n",
       "      <td>The Dig</td>\n",
       "      <td>4.0</td>\n",
       "    </tr>\n",
       "    <tr>\n",
       "      <th>5</th>\n",
       "      <td>6</td>\n",
       "      <td>Promising Young Woman</td>\n",
       "      <td>5.0</td>\n",
       "      <td>Wonder Woman 1984</td>\n",
       "      <td>4.0</td>\n",
       "      <td>The Little Things</td>\n",
       "      <td>3.0</td>\n",
       "    </tr>\n",
       "    <tr>\n",
       "      <th>6</th>\n",
       "      <td>7</td>\n",
       "      <td>Wonder Woman 1984</td>\n",
       "      <td>4.0</td>\n",
       "      <td>The White Tiger</td>\n",
       "      <td>1.0</td>\n",
       "      <td>The Little Things</td>\n",
       "      <td>0.0</td>\n",
       "    </tr>\n",
       "  </tbody>\n",
       "</table>\n",
       "</div>"
      ],
      "text/plain": [
       "   UserID                1st Max  Max1Value            2nd Max  Max2Value  \\\n",
       "0       1                The Dig        5.0    The White Tiger        4.0   \n",
       "1       2                   Soul        5.0  Wonder Woman 1984        5.0   \n",
       "2       3      The Little Things        5.0            The Dig        5.0   \n",
       "3       4  Promising Young Woman        5.0  Wonder Woman 1984        4.0   \n",
       "4       5      The Little Things        5.0    The White Tiger        5.0   \n",
       "5       6  Promising Young Woman        5.0  Wonder Woman 1984        4.0   \n",
       "6       7      Wonder Woman 1984        4.0    The White Tiger        1.0   \n",
       "\n",
       "             3rd Max  Max3Value  \n",
       "0  The Little Things        3.0  \n",
       "1            The Dig        4.0  \n",
       "2               Soul        5.0  \n",
       "3               Soul        3.0  \n",
       "4            The Dig        4.0  \n",
       "5  The Little Things        3.0  \n",
       "6  The Little Things        0.0  "
      ]
     },
     "execution_count": 255,
     "metadata": {},
     "output_type": "execute_result"
    }
   ],
   "source": [
    "df03a = df02.copy()\n",
    "\n",
    "def top(x):\n",
    "    x.set_index('UserID', inplace=True)\n",
    "    df03a = pd.DataFrame({'1st Max':[],'Max1Value':[],'2nd Max':[],'Max2Value':[],'3rd Max':[],'Max3Value':[]})\n",
    "    df03a.index.name='User'\n",
    "    df03a.loc[x.index.values[0],['1st Max', '2nd Max','3rd Max']] = x.sum().nlargest(3).index.tolist()\n",
    "    df03a.loc[x.index.values[0],['Max1Value', 'Max2Value','Max3Value']] = x.sum().nlargest(3).values\n",
    "    return df03a\n",
    "\n",
    "df_top = df03a.groupby('UserID').apply(top).reset_index(level=1, drop=True).reset_index()\n",
    "df_top"
   ]
  },
  {
   "cell_type": "code",
   "execution_count": 256,
   "metadata": {
    "ExecuteTime": {
     "end_time": "2021-02-24T17:51:56.199844Z",
     "start_time": "2021-02-24T17:51:56.063600Z"
    }
   },
   "outputs": [
    {
     "data": {
      "text/html": [
       "<div>\n",
       "<style scoped>\n",
       "    .dataframe tbody tr th:only-of-type {\n",
       "        vertical-align: middle;\n",
       "    }\n",
       "\n",
       "    .dataframe tbody tr th {\n",
       "        vertical-align: top;\n",
       "    }\n",
       "\n",
       "    .dataframe thead th {\n",
       "        text-align: right;\n",
       "    }\n",
       "</style>\n",
       "<table border=\"1\" class=\"dataframe\">\n",
       "  <thead>\n",
       "    <tr style=\"text-align: right;\">\n",
       "      <th></th>\n",
       "      <th>UserID</th>\n",
       "      <th>The Little Things</th>\n",
       "      <th>The White Tiger</th>\n",
       "      <th>The Dig</th>\n",
       "      <th>Soul</th>\n",
       "      <th>Wonder Woman 1984</th>\n",
       "      <th>Promising Young Woman</th>\n",
       "    </tr>\n",
       "  </thead>\n",
       "  <tbody>\n",
       "    <tr>\n",
       "      <th>0</th>\n",
       "      <td>1</td>\n",
       "      <td>3</td>\n",
       "      <td>4</td>\n",
       "      <td>5</td>\n",
       "      <td>0</td>\n",
       "      <td>1</td>\n",
       "      <td>3.0</td>\n",
       "    </tr>\n",
       "    <tr>\n",
       "      <th>1</th>\n",
       "      <td>2</td>\n",
       "      <td>0</td>\n",
       "      <td>0</td>\n",
       "      <td>4</td>\n",
       "      <td>5</td>\n",
       "      <td>5</td>\n",
       "      <td>4.0</td>\n",
       "    </tr>\n",
       "    <tr>\n",
       "      <th>2</th>\n",
       "      <td>3</td>\n",
       "      <td>5</td>\n",
       "      <td>4</td>\n",
       "      <td>5</td>\n",
       "      <td>5</td>\n",
       "      <td>3</td>\n",
       "      <td>4.0</td>\n",
       "    </tr>\n",
       "    <tr>\n",
       "      <th>3</th>\n",
       "      <td>4</td>\n",
       "      <td>0</td>\n",
       "      <td>0</td>\n",
       "      <td>0</td>\n",
       "      <td>3</td>\n",
       "      <td>4</td>\n",
       "      <td>5.0</td>\n",
       "    </tr>\n",
       "    <tr>\n",
       "      <th>4</th>\n",
       "      <td>5</td>\n",
       "      <td>5</td>\n",
       "      <td>5</td>\n",
       "      <td>4</td>\n",
       "      <td>3</td>\n",
       "      <td>4</td>\n",
       "      <td>2.0</td>\n",
       "    </tr>\n",
       "    <tr>\n",
       "      <th>5</th>\n",
       "      <td>6</td>\n",
       "      <td>3</td>\n",
       "      <td>2</td>\n",
       "      <td>0</td>\n",
       "      <td>3</td>\n",
       "      <td>4</td>\n",
       "      <td>5.0</td>\n",
       "    </tr>\n",
       "    <tr>\n",
       "      <th>6</th>\n",
       "      <td>7</td>\n",
       "      <td>0</td>\n",
       "      <td>1</td>\n",
       "      <td>0</td>\n",
       "      <td>0</td>\n",
       "      <td>4</td>\n",
       "      <td>0.0</td>\n",
       "    </tr>\n",
       "  </tbody>\n",
       "</table>\n",
       "</div>"
      ],
      "text/plain": [
       "   UserID The Little Things The White Tiger The Dig Soul  Wonder Woman 1984  \\\n",
       "0       1                 3               4       5    0                  1   \n",
       "1       2                 0               0       4    5                  5   \n",
       "2       3                 5               4       5    5                  3   \n",
       "3       4                 0               0       0    3                  4   \n",
       "4       5                 5               5       4    3                  4   \n",
       "5       6                 3               2       0    3                  4   \n",
       "6       7                 0               1       0    0                  4   \n",
       "\n",
       "   Promising Young Woman  \n",
       "0                    3.0  \n",
       "1                    4.0  \n",
       "2                    4.0  \n",
       "3                    5.0  \n",
       "4                    2.0  \n",
       "5                    5.0  \n",
       "6                    0.0  "
      ]
     },
     "execution_count": 256,
     "metadata": {},
     "output_type": "execute_result"
    }
   ],
   "source": [
    "df03 = df02.fillna(0)\n",
    "df03"
   ]
  },
  {
   "cell_type": "code",
   "execution_count": 158,
   "metadata": {
    "ExecuteTime": {
     "end_time": "2021-02-24T15:48:07.518550Z",
     "start_time": "2021-02-24T15:48:07.358847Z"
    }
   },
   "outputs": [
    {
     "data": {
      "text/html": [
       "<div>\n",
       "<style scoped>\n",
       "    .dataframe tbody tr th:only-of-type {\n",
       "        vertical-align: middle;\n",
       "    }\n",
       "\n",
       "    .dataframe tbody tr th {\n",
       "        vertical-align: top;\n",
       "    }\n",
       "\n",
       "    .dataframe thead th {\n",
       "        text-align: right;\n",
       "    }\n",
       "</style>\n",
       "<table border=\"1\" class=\"dataframe\">\n",
       "  <thead>\n",
       "    <tr style=\"text-align: right;\">\n",
       "      <th></th>\n",
       "      <th>movieID</th>\n",
       "      <th>movie</th>\n",
       "    </tr>\n",
       "  </thead>\n",
       "  <tbody>\n",
       "    <tr>\n",
       "      <th>0</th>\n",
       "      <td>101</td>\n",
       "      <td>The Little Things</td>\n",
       "    </tr>\n",
       "    <tr>\n",
       "      <th>1</th>\n",
       "      <td>102</td>\n",
       "      <td>The White Tiger</td>\n",
       "    </tr>\n",
       "    <tr>\n",
       "      <th>2</th>\n",
       "      <td>103</td>\n",
       "      <td>The Dig</td>\n",
       "    </tr>\n",
       "    <tr>\n",
       "      <th>3</th>\n",
       "      <td>104</td>\n",
       "      <td>Soul</td>\n",
       "    </tr>\n",
       "    <tr>\n",
       "      <th>4</th>\n",
       "      <td>105</td>\n",
       "      <td>Wonder Woman 1984</td>\n",
       "    </tr>\n",
       "    <tr>\n",
       "      <th>5</th>\n",
       "      <td>106</td>\n",
       "      <td>Promising Young Woman</td>\n",
       "    </tr>\n",
       "  </tbody>\n",
       "</table>\n",
       "</div>"
      ],
      "text/plain": [
       "   movieID                  movie\n",
       "0      101      The Little Things\n",
       "1      102        The White Tiger\n",
       "2      103                The Dig\n",
       "3      104                   Soul\n",
       "4      105      Wonder Woman 1984\n",
       "5      106  Promising Young Woman"
      ]
     },
     "execution_count": 158,
     "metadata": {},
     "output_type": "execute_result"
    }
   ],
   "source": [
    "# read movie ID\n",
    "movie = pd.read_csv('https://raw.githubusercontent.com/susanqisun/DAV6300/main/movieID.csv')\n",
    "movie"
   ]
  },
  {
   "cell_type": "code",
   "execution_count": 193,
   "metadata": {
    "ExecuteTime": {
     "end_time": "2021-02-24T17:10:42.631960Z",
     "start_time": "2021-02-24T17:10:42.582737Z"
    }
   },
   "outputs": [
    {
     "data": {
      "text/html": [
       "<div>\n",
       "<style scoped>\n",
       "    .dataframe tbody tr th:only-of-type {\n",
       "        vertical-align: middle;\n",
       "    }\n",
       "\n",
       "    .dataframe tbody tr th {\n",
       "        vertical-align: top;\n",
       "    }\n",
       "\n",
       "    .dataframe thead th {\n",
       "        text-align: right;\n",
       "    }\n",
       "</style>\n",
       "<table border=\"1\" class=\"dataframe\">\n",
       "  <thead>\n",
       "    <tr style=\"text-align: right;\">\n",
       "      <th></th>\n",
       "      <th>UserID</th>\n",
       "      <th>The Little Things</th>\n",
       "      <th>The White Tiger</th>\n",
       "      <th>The Dig</th>\n",
       "      <th>Soul</th>\n",
       "      <th>Wonder Woman 1984</th>\n",
       "      <th>Promising Young Woman</th>\n",
       "    </tr>\n",
       "  </thead>\n",
       "  <tbody>\n",
       "    <tr>\n",
       "      <th>1</th>\n",
       "      <td>1</td>\n",
       "      <td>3</td>\n",
       "      <td>4</td>\n",
       "      <td>5</td>\n",
       "      <td>0</td>\n",
       "      <td>1</td>\n",
       "      <td>3.0</td>\n",
       "    </tr>\n",
       "    <tr>\n",
       "      <th>2</th>\n",
       "      <td>2</td>\n",
       "      <td>0</td>\n",
       "      <td>0</td>\n",
       "      <td>4</td>\n",
       "      <td>5</td>\n",
       "      <td>5</td>\n",
       "      <td>4.0</td>\n",
       "    </tr>\n",
       "    <tr>\n",
       "      <th>3</th>\n",
       "      <td>3</td>\n",
       "      <td>5</td>\n",
       "      <td>4</td>\n",
       "      <td>5</td>\n",
       "      <td>5</td>\n",
       "      <td>3</td>\n",
       "      <td>4.0</td>\n",
       "    </tr>\n",
       "    <tr>\n",
       "      <th>4</th>\n",
       "      <td>4</td>\n",
       "      <td>0</td>\n",
       "      <td>0</td>\n",
       "      <td>0</td>\n",
       "      <td>3</td>\n",
       "      <td>4</td>\n",
       "      <td>5.0</td>\n",
       "    </tr>\n",
       "    <tr>\n",
       "      <th>5</th>\n",
       "      <td>5</td>\n",
       "      <td>5</td>\n",
       "      <td>5</td>\n",
       "      <td>4</td>\n",
       "      <td>3</td>\n",
       "      <td>4</td>\n",
       "      <td>2.0</td>\n",
       "    </tr>\n",
       "    <tr>\n",
       "      <th>6</th>\n",
       "      <td>6</td>\n",
       "      <td>3</td>\n",
       "      <td>2</td>\n",
       "      <td>0</td>\n",
       "      <td>3</td>\n",
       "      <td>4</td>\n",
       "      <td>5.0</td>\n",
       "    </tr>\n",
       "    <tr>\n",
       "      <th>7</th>\n",
       "      <td>7</td>\n",
       "      <td>0</td>\n",
       "      <td>1</td>\n",
       "      <td>0</td>\n",
       "      <td>0</td>\n",
       "      <td>4</td>\n",
       "      <td>0.0</td>\n",
       "    </tr>\n",
       "  </tbody>\n",
       "</table>\n",
       "</div>"
      ],
      "text/plain": [
       "   UserID The Little Things The White Tiger The Dig Soul  Wonder Woman 1984  \\\n",
       "1       1                 3               4       5    0                  1   \n",
       "2       2                 0               0       4    5                  5   \n",
       "3       3                 5               4       5    5                  3   \n",
       "4       4                 0               0       0    3                  4   \n",
       "5       5                 5               5       4    3                  4   \n",
       "6       6                 3               2       0    3                  4   \n",
       "7       7                 0               1       0    0                  4   \n",
       "\n",
       "   Promising Young Woman  \n",
       "1                    3.0  \n",
       "2                    4.0  \n",
       "3                    4.0  \n",
       "4                    5.0  \n",
       "5                    2.0  \n",
       "6                    5.0  \n",
       "7                    0.0  "
      ]
     },
     "execution_count": 193,
     "metadata": {},
     "output_type": "execute_result"
    }
   ],
   "source": [
    "df04 = df03.copy()\n",
    "df04.index = np.arange(1, len(df03) + 1)\n",
    "df04"
   ]
  },
  {
   "cell_type": "code",
   "execution_count": 246,
   "metadata": {
    "ExecuteTime": {
     "end_time": "2021-02-24T17:48:27.588959Z",
     "start_time": "2021-02-24T17:48:27.521160Z"
    }
   },
   "outputs": [],
   "source": [
    "df05 = df04.drop(['UserID'], axis=1)\n",
    "\n",
    "df_survey = df05.stack().reset_index()\n",
    "df_survey.columns=['UserId', 'movie', 'rating']\n"
   ]
  },
  {
   "cell_type": "code",
   "execution_count": 360,
   "metadata": {
    "ExecuteTime": {
     "end_time": "2021-02-25T03:17:48.509953Z",
     "start_time": "2021-02-25T03:17:48.484680Z"
    }
   },
   "outputs": [
    {
     "data": {
      "text/html": [
       "<div>\n",
       "<style scoped>\n",
       "    .dataframe tbody tr th:only-of-type {\n",
       "        vertical-align: middle;\n",
       "    }\n",
       "\n",
       "    .dataframe tbody tr th {\n",
       "        vertical-align: top;\n",
       "    }\n",
       "\n",
       "    .dataframe thead th {\n",
       "        text-align: right;\n",
       "    }\n",
       "</style>\n",
       "<table border=\"1\" class=\"dataframe\">\n",
       "  <thead>\n",
       "    <tr style=\"text-align: right;\">\n",
       "      <th></th>\n",
       "      <th>UserId</th>\n",
       "      <th>movie</th>\n",
       "      <th>rating</th>\n",
       "    </tr>\n",
       "  </thead>\n",
       "  <tbody>\n",
       "    <tr>\n",
       "      <th>0</th>\n",
       "      <td>1</td>\n",
       "      <td>The Little Things</td>\n",
       "      <td>3</td>\n",
       "    </tr>\n",
       "    <tr>\n",
       "      <th>1</th>\n",
       "      <td>1</td>\n",
       "      <td>The White Tiger</td>\n",
       "      <td>4</td>\n",
       "    </tr>\n",
       "    <tr>\n",
       "      <th>2</th>\n",
       "      <td>1</td>\n",
       "      <td>The Dig</td>\n",
       "      <td>5</td>\n",
       "    </tr>\n",
       "    <tr>\n",
       "      <th>3</th>\n",
       "      <td>1</td>\n",
       "      <td>Soul</td>\n",
       "      <td>0</td>\n",
       "    </tr>\n",
       "    <tr>\n",
       "      <th>4</th>\n",
       "      <td>1</td>\n",
       "      <td>Wonder Woman 1984</td>\n",
       "      <td>1</td>\n",
       "    </tr>\n",
       "  </tbody>\n",
       "</table>\n",
       "</div>"
      ],
      "text/plain": [
       "   UserId              movie rating\n",
       "0       1  The Little Things      3\n",
       "1       1    The White Tiger      4\n",
       "2       1            The Dig      5\n",
       "3       1               Soul      0\n",
       "4       1  Wonder Woman 1984      1"
      ]
     },
     "execution_count": 360,
     "metadata": {},
     "output_type": "execute_result"
    }
   ],
   "source": [
    "df_survey.head()"
   ]
  },
  {
   "cell_type": "code",
   "execution_count": 354,
   "metadata": {
    "ExecuteTime": {
     "end_time": "2021-02-25T03:09:34.615596Z",
     "start_time": "2021-02-25T03:09:34.572759Z"
    }
   },
   "outputs": [],
   "source": [
    "# merge together\n",
    "ratings01 = pd.merge(left=df_survey, right=movie, how='outer')\n",
    "\n",
    "ratings01.sort_values(by='UserId')\n",
    "\n",
    "ratings = ratings01[['UserId','movieID','rating']]\n"
   ]
  },
  {
   "cell_type": "code",
   "execution_count": 355,
   "metadata": {
    "ExecuteTime": {
     "end_time": "2021-02-25T03:09:35.757303Z",
     "start_time": "2021-02-25T03:09:35.741077Z"
    }
   },
   "outputs": [
    {
     "name": "stderr",
     "output_type": "stream",
     "text": [
      "/Users/yangyang/opt/anaconda3/lib/python3.7/site-packages/ipykernel_launcher.py:2: SettingWithCopyWarning: \n",
      "A value is trying to be set on a copy of a slice from a DataFrame.\n",
      "Try using .loc[row_indexer,col_indexer] = value instead\n",
      "\n",
      "See the caveats in the documentation: https://pandas.pydata.org/pandas-docs/stable/user_guide/indexing.html#returning-a-view-versus-a-copy\n",
      "  \n"
     ]
    },
    {
     "data": {
      "text/plain": [
       "UserId     int64\n",
       "movieID    int64\n",
       "rating     int64\n",
       "dtype: object"
      ]
     },
     "execution_count": 355,
     "metadata": {},
     "output_type": "execute_result"
    }
   ],
   "source": [
    "# change data type\n",
    "ratings['rating'] = ratings['rating'].astype('int64') \n",
    "ratings.dtypes"
   ]
  },
  {
   "cell_type": "code",
   "execution_count": 349,
   "metadata": {
    "ExecuteTime": {
     "end_time": "2021-02-25T03:02:14.544996Z",
     "start_time": "2021-02-25T03:02:14.523666Z"
    }
   },
   "outputs": [
    {
     "name": "stdout",
     "output_type": "stream",
     "text": [
      "Number of ratings: 42\n",
      "Number of unique movieId's: 6\n",
      "Number of unique users: 7\n",
      "Average number of ratings per user: 6.0\n",
      "Average number of ratings per movie: 7.0\n"
     ]
    }
   ],
   "source": [
    "n_ratings = len(ratings)\n",
    "n_movies = ratings['movieID'].nunique()\n",
    "n_users = ratings['UserId'].nunique()\n",
    "\n",
    "print(f\"Number of ratings: {n_ratings}\")\n",
    "print(f\"Number of unique movieId's: {n_movies}\")\n",
    "print(f\"Number of unique users: {n_users}\")\n",
    "print(f\"Average number of ratings per user: {round(n_ratings/n_users, 2)}\")\n",
    "print(f\"Average number of ratings per movie: {round(n_ratings/n_movies, 2)}\")"
   ]
  },
  {
   "cell_type": "markdown",
   "metadata": {},
   "source": [
    "# Create function for user-based recommender\n",
    "\n",
    "https://github.com/Arvind-Maan/Reco-Me/blob/master/movie_recommendation.py\n"
   ]
  },
  {
   "cell_type": "code",
   "execution_count": 364,
   "metadata": {
    "ExecuteTime": {
     "end_time": "2021-02-25T03:23:12.303265Z",
     "start_time": "2021-02-25T03:23:12.253217Z"
    }
   },
   "outputs": [],
   "source": [
    "\"\"\"\n",
    "simularity matrix\n",
    "    returns a matrix of users that are similar to our user and how similar they are.\n",
    "    [ (user similarity, user), (user similarity, user), .... , ]\n",
    "    usings [fn] to calculate simularity\n",
    "    and limits the matrix to size clusters\n",
    "\"\"\"\n",
    "def simularity_matrix(user, fn, clusters):\n",
    "    # get the distances \n",
    "    # sort and reverse the data (closest -> least closest) and attach a bound \n",
    "    toReturn = [(fn(user, other),other) for other in range(0,len(mu_matrix)-1) if other != user]\n",
    "    toReturn.sort(reverse=True)\n",
    "    toReturn = toReturn[0:clusters] \n",
    "    return toReturn"
   ]
  },
  {
   "cell_type": "code",
   "execution_count": 365,
   "metadata": {
    "ExecuteTime": {
     "end_time": "2021-02-25T03:23:12.869435Z",
     "start_time": "2021-02-25T03:23:12.860217Z"
    }
   },
   "outputs": [],
   "source": [
    "import operator,collections\n",
    "\n",
    "\"\"\"\n",
    "filter_results\n",
    "sorts all the recommended movies and returns an array of the top (num_of_recommendations)\n",
    "parameters:\n",
    "    all_outputs: a dictionary consisting of ALL recommendations\n",
    "    num_of_recommendations: the number of recommendations we want\n",
    "\"\"\"\n",
    "def filter_results(all_outputs, num_of_recommendations):\n",
    "    # sort the recommedations by possible rankings\n",
    "    sorted_recommendations = sorted(all_outputs.items(), key=operator.itemgetter(1),reverse=True)\n",
    "    # return the top n\n",
    "    sorted_recommendations = sorted_recommendations[0:num_of_recommendations]\n",
    "    return sorted_recommendations\n"
   ]
  },
  {
   "cell_type": "code",
   "execution_count": 366,
   "metadata": {
    "ExecuteTime": {
     "end_time": "2021-02-25T03:23:13.526671Z",
     "start_time": "2021-02-25T03:23:13.504434Z"
    }
   },
   "outputs": [],
   "source": [
    "\"\"\"\n",
    "recommend\n",
    "Recommends [k] number of movies using [fn] with [depth] as the depth and on user [user].\n",
    "Parameters:\n",
    "    user: the user we are recommending to\n",
    "    depth: how many users are we comparing to this user\n",
    "    fn: the function used for calculating simularity and distance\n",
    "    k: the number of recommendations \n",
    "\"\"\"\n",
    "def recommend (user, clusters, fn, k):\n",
    "    print(\"############ RECOMMENDATION FOR USER %d ############\" %(user))\n",
    "    print(\"Using %s for calculating similarity/distance with %d clusters\" %(fn,clusters))\n",
    "    # we want to use our simularity functions to develop a list of ratings that our user might rate a movie as.\n",
    "    # this allows us to think what our user will like the most in comparison\n",
    "    distances = simularity_matrix(user,fn,clusters)\n",
    "    #for each distance \n",
    "    all_unseen_movies = {}\n",
    "    for dist,o in distances: \n",
    "        # each movie is an index, the number of movies is the LENGTH of the items row\n",
    "        for i in range(0, len(mu_matrix[o])-1):\n",
    "            predicted_rank = int(dist*mu_matrix[o][i])\n",
    "            # update recommendations i to be the value of the similarity predicted rank \n",
    "            if (mu_matrix[o][i] > 0 and mu_matrix[user][i] <= 0): #if they ranked it but we didn't\n",
    "                # if we are already planning to recommend it, add more weight to the prediction and increase similarity!\n",
    "                all_unseen_movies[i] = (dist, [predicted_rank]) if i not in all_unseen_movies else (all_unseen_movies[i][0] + dist, all_unseen_movies[i][1] + [predicted_rank])   \n",
    "    # update all the values\n",
    "    for m in all_unseen_movies: \n",
    "        all_unseen_movies[m] = sum(all_unseen_movies[m][1])/all_unseen_movies[m][0] if all_unseen_movies[m][0] != 0 else 0 \n",
    "    # at this point we have a dictionary of all possible recommendations with the format:\n",
    "    # { [movie_id] : [predicted_rating]}\n",
    "    # lets pick the top 5!\n",
    "    recommend_movies = filter_results(all_unseen_movies,k)\n",
    "    # recommend movies outputs an array formatted like so: [ (movie_id, predicted rank)]\n",
    "    # lets print it in a nice way:\n",
    "    print_recommendations(recommend_movies)\n",
    "    print(\"############ END OF RECOMMENDATION FOR USER %d ############\" %(user))\n",
    "    return recommend_movies"
   ]
  },
  {
   "cell_type": "markdown",
   "metadata": {},
   "source": [
    "# Use user1 as an example"
   ]
  },
  {
   "cell_type": "code",
   "execution_count": 367,
   "metadata": {
    "ExecuteTime": {
     "end_time": "2021-02-25T03:23:16.006192Z",
     "start_time": "2021-02-25T03:23:15.996128Z"
    }
   },
   "outputs": [],
   "source": [
    "\"\"\"\n",
    "print_user_summary\n",
    "Prints the users top 3 movies\n",
    "Parameters:\n",
    "    the user\n",
    "\"\"\"\n",
    "\n",
    "def print_user_summary(user):\n",
    "    # the header\n",
    "    print(\"*****USER SUMMARY FOR USER %d*****\" %(user))\n",
    "    user_x = df.loc[user-1]\n",
    "    print(user_x)\n",
    "    print(\"==Users Top 3 Favourite Movies==\")\n",
    "    return df_top.loc[user-1]"
   ]
  },
  {
   "cell_type": "code",
   "execution_count": 290,
   "metadata": {
    "ExecuteTime": {
     "end_time": "2021-02-25T01:30:16.182019Z",
     "start_time": "2021-02-25T01:30:16.162603Z"
    }
   },
   "outputs": [
    {
     "name": "stdout",
     "output_type": "stream",
     "text": [
      "*****USER SUMMARY FOR USER 1*****\n",
      "UserID                          1\n",
      "The Little Things               3\n",
      "The White Tiger                 4\n",
      "The Dig                         5\n",
      "Soul                     Not Sure\n",
      "Wonder Woman 1984               1\n",
      "Promising Young Woman           3\n",
      "Name: 0, dtype: object\n",
      "==Users Top 3 Favourite Movies==\n"
     ]
    },
    {
     "data": {
      "text/plain": [
       "UserID                       1\n",
       "1st Max                The Dig\n",
       "Max1Value                    5\n",
       "2nd Max        The White Tiger\n",
       "Max2Value                    4\n",
       "3rd Max      The Little Things\n",
       "Max3Value                    3\n",
       "Name: 0, dtype: object"
      ]
     },
     "execution_count": 290,
     "metadata": {},
     "output_type": "execute_result"
    }
   ],
   "source": [
    "print_user_summary(1)"
   ]
  },
  {
   "cell_type": "markdown",
   "metadata": {},
   "source": [
    "# Part 1: User-based Recommender system\n",
    "\n",
    "\n",
    "## 1. User-based Recommender using Jaccard similarity\n"
   ]
  },
  {
   "cell_type": "code",
   "execution_count": 375,
   "metadata": {
    "ExecuteTime": {
     "end_time": "2021-02-25T04:04:21.197719Z",
     "start_time": "2021-02-25T04:04:21.069695Z"
    }
   },
   "outputs": [
    {
     "data": {
      "text/plain": [
       "array([[3, 4, 5, 0, 1, 3],\n",
       "       [0, 0, 4, 5, 5, 4],\n",
       "       [5, 4, 5, 5, 3, 4],\n",
       "       [0, 0, 0, 3, 4, 5],\n",
       "       [5, 5, 4, 3, 4, 2],\n",
       "       [3, 2, 0, 3, 4, 5],\n",
       "       [0, 1, 0, 0, 4, 0]])"
      ]
     },
     "execution_count": 375,
     "metadata": {},
     "output_type": "execute_result"
    }
   ],
   "source": [
    "movie_features = ratings.pivot(index='UserId',columns='movieID',values='rating').fillna(0)\n",
    "mu_matrix = np.array(movie_features.values, dtype=int)\n",
    "mu_matrix\n"
   ]
  },
  {
   "cell_type": "code",
   "execution_count": 368,
   "metadata": {
    "ExecuteTime": {
     "end_time": "2021-02-25T03:23:23.453436Z",
     "start_time": "2021-02-25T03:23:23.437972Z"
    }
   },
   "outputs": [],
   "source": [
    "\"\"\"\n",
    "Jaccard Similarity\n",
    "computes the jaccard simularity function on the users and returns the value\n",
    "PArameters: the users we are comparing\n",
    "\"\"\"\n",
    "def jaccard_similarity(user1, user2):\n",
    "    # jacard similarity is the intersection of the 2 / the union of the 2 \n",
    "    # in other words, the common rankings / all ranked\n",
    "    # we just care about length, so don't worry about maintaing indices\n",
    "    union_ab = []\n",
    "    intersection_ab = []\n",
    "    for i in range (0, len(mu_matrix[user1]-1)):\n",
    "        if mu_matrix[user1][i] > 0 and mu_matrix[user2][i] > 0:\n",
    "            intersection_ab.append(mu_matrix[user1][i])\n",
    "        else: # can't be both\n",
    "            if mu_matrix[user1][i] > 0:\n",
    "                union_ab.append(mu_matrix[user1][i])\n",
    "            elif mu_matrix[user2][i] > 0:\n",
    "                union_ab.append(mu_matrix[user2][i])    \n",
    "    # typically jaccard only factors in set difference\n",
    "    # for the sake of the movie example, we will use the actual ratings to see if this makes it more accurate\n",
    "    return 1 - (sum(intersection_ab)/sum(union_ab)) if sum(union_ab) != 0 else 0\n",
    "\n"
   ]
  },
  {
   "cell_type": "code",
   "execution_count": 285,
   "metadata": {
    "ExecuteTime": {
     "end_time": "2021-02-25T01:27:20.412007Z",
     "start_time": "2021-02-25T01:27:20.343510Z"
    }
   },
   "outputs": [
    {
     "name": "stdout",
     "output_type": "stream",
     "text": [
      "############ RECOMMENDATION FOR USER 1 ############\n",
      "Using <function jaccard_similarity at 0x12e845f80> for calculating similarity/distance with 2 clusters\n",
      "----Recommendation 1----\n",
      "101 | The Little Things | \n",
      "Predicted Rating: 1.565217\n",
      "-------------------------\n",
      "----Recommendation 2----\n",
      "102 | The White Tiger | \n",
      "Predicted Rating: 1.565217\n",
      "-------------------------\n",
      "############ END OF RECOMMENDATION FOR USER 1 ############\n"
     ]
    },
    {
     "data": {
      "text/plain": [
       "[(0, 1.565217391304348), (1, 1.565217391304348)]"
      ]
     },
     "execution_count": 285,
     "metadata": {},
     "output_type": "execute_result"
    }
   ],
   "source": [
    "# top 2 recommendations for user1 by using jaccard_similarity\n",
    "recommend(1, 2, jaccard_similarity, 2)"
   ]
  },
  {
   "cell_type": "markdown",
   "metadata": {},
   "source": [
    "## 2. User-based Recommender using Pearson similarity\n"
   ]
  },
  {
   "cell_type": "code",
   "execution_count": 288,
   "metadata": {
    "ExecuteTime": {
     "end_time": "2021-02-25T01:29:22.534131Z",
     "start_time": "2021-02-25T01:29:22.514988Z"
    }
   },
   "outputs": [],
   "source": [
    "import math\n",
    "\"\"\"\n",
    "Pearson Simularity\n",
    "returns the value of the correlation coefficient in the pearson simularity algorithm\n",
    "Parameters: the users we are comparing\n",
    "\"\"\"\n",
    "def pearson_similarity(user1,user2):\n",
    "    # get the mutually ranked\n",
    "    common_rankings1 = [mu_matrix[user1][i] for i in range(0,len(mu_matrix[user1])-1) if mu_matrix[user1][i] > 0 and mu_matrix[user2][i] > 0]\n",
    "    common_rankings2 = [mu_matrix[user2][i] for i in range(0,len(mu_matrix[user1])-1) if mu_matrix[user1][i] > 0 and mu_matrix[user2][i] > 0]\n",
    "    # get the variables needed for the algorithm\n",
    "    n = len(common_rankings2) # both rankings SHOULD be the same size, so choose either to be n\n",
    "    # sum of both users squared\n",
    "    sum_x_sqr = sum(square(common_rankings1))\n",
    "    sum_y_sqr = sum(square(common_rankings2))\n",
    "    # sum of the products of paired rankings\n",
    "    sum_xy = sum([common_rankings1[i] * common_rankings2[i] for i in range (0, n)])\n",
    "    # we have everything we need, find the correlation coefficient!\n",
    "    denom = math.sqrt((n * sum_x_sqr - (sum(common_rankings1)**2)) * (n * sum_y_sqr - (sum(common_rankings2)**2)))\n",
    "    return ((n * sum_xy - (sum(common_rankings1) - sum(common_rankings2)))/denom) if denom != 0 else 0\n"
   ]
  },
  {
   "cell_type": "code",
   "execution_count": 289,
   "metadata": {
    "ExecuteTime": {
     "end_time": "2021-02-25T01:29:23.257732Z",
     "start_time": "2021-02-25T01:29:23.234813Z"
    }
   },
   "outputs": [
    {
     "name": "stdout",
     "output_type": "stream",
     "text": [
      "############ RECOMMENDATION FOR USER 1 ############\n",
      "Using <function pearson_similarity at 0x12cc2b200> for calculating similarity/distance with 2 clusters\n",
      "----Recommendation 1----\n",
      "101 | The Little Things | \n",
      "Predicted Rating: 4.993737\n",
      "-------------------------\n",
      "----Recommendation 2----\n",
      "102 | The White Tiger | \n",
      "Predicted Rating: 4.626305\n",
      "-------------------------\n",
      "############ END OF RECOMMENDATION FOR USER 1 ############\n"
     ]
    },
    {
     "data": {
      "text/plain": [
       "[(0, 4.993736951983299), (1, 4.6263048016701465)]"
      ]
     },
     "execution_count": 289,
     "metadata": {},
     "output_type": "execute_result"
    }
   ],
   "source": [
    "# top 2 recommendations for user1 by using pearson_similarity\n",
    "recommend(1, 2, pearson_similarity, 2)"
   ]
  },
  {
   "cell_type": "markdown",
   "metadata": {},
   "source": [
    "# Part 2: Item-based Recommender system\n",
    "\n",
    "## Prepare movie description data"
   ]
  },
  {
   "cell_type": "code",
   "execution_count": 292,
   "metadata": {
    "ExecuteTime": {
     "end_time": "2021-02-25T01:42:12.260412Z",
     "start_time": "2021-02-25T01:42:12.135914Z"
    }
   },
   "outputs": [
    {
     "data": {
      "text/html": [
       "<div>\n",
       "<style scoped>\n",
       "    .dataframe tbody tr th:only-of-type {\n",
       "        vertical-align: middle;\n",
       "    }\n",
       "\n",
       "    .dataframe tbody tr th {\n",
       "        vertical-align: top;\n",
       "    }\n",
       "\n",
       "    .dataframe thead th {\n",
       "        text-align: right;\n",
       "    }\n",
       "</style>\n",
       "<table border=\"1\" class=\"dataframe\">\n",
       "  <thead>\n",
       "    <tr style=\"text-align: right;\">\n",
       "      <th></th>\n",
       "      <th>title</th>\n",
       "      <th>genre</th>\n",
       "    </tr>\n",
       "  </thead>\n",
       "  <tbody>\n",
       "    <tr>\n",
       "      <th>0</th>\n",
       "      <td>The Little Things</td>\n",
       "      <td>Crime, Drama, Thriller</td>\n",
       "    </tr>\n",
       "    <tr>\n",
       "      <th>1</th>\n",
       "      <td>The White Tiger</td>\n",
       "      <td>Crime, Drama</td>\n",
       "    </tr>\n",
       "    <tr>\n",
       "      <th>2</th>\n",
       "      <td>The Dig</td>\n",
       "      <td>Biography, Drama, History</td>\n",
       "    </tr>\n",
       "    <tr>\n",
       "      <th>3</th>\n",
       "      <td>Soul</td>\n",
       "      <td>Animation, Adventure, Comedy</td>\n",
       "    </tr>\n",
       "    <tr>\n",
       "      <th>4</th>\n",
       "      <td>Wonder Woman 1984</td>\n",
       "      <td>Action, Adventure, Fantasy</td>\n",
       "    </tr>\n",
       "    <tr>\n",
       "      <th>5</th>\n",
       "      <td>Promising Young Woman</td>\n",
       "      <td>Crime, Drama, Thriller</td>\n",
       "    </tr>\n",
       "  </tbody>\n",
       "</table>\n",
       "</div>"
      ],
      "text/plain": [
       "                   title                         genre\n",
       "0      The Little Things        Crime, Drama, Thriller\n",
       "1        The White Tiger                  Crime, Drama\n",
       "2                The Dig     Biography, Drama, History\n",
       "3                   Soul  Animation, Adventure, Comedy\n",
       "4      Wonder Woman 1984    Action, Adventure, Fantasy\n",
       "5  Promising Young Woman        Crime, Drama, Thriller"
      ]
     },
     "execution_count": 292,
     "metadata": {},
     "output_type": "execute_result"
    }
   ],
   "source": [
    "# create table for movie genres\n",
    "data = {'title':  ['The Little Things', 'The White Tiger','The Dig','Soul','Wonder Woman 1984','Promising Young Woman'],\n",
    "        'genre': ['Crime, Drama, Thriller', 'Crime, Drama','Biography, Drama, History','Animation, Adventure, Comedy','Action, Adventure, Fantasy','Crime, Drama, Thriller']\n",
    "        }\n",
    "\n",
    "df_genres = pd.DataFrame (data, columns = ['title','genre'])\n",
    "df_genres\n"
   ]
  },
  {
   "cell_type": "code",
   "execution_count": 293,
   "metadata": {
    "ExecuteTime": {
     "end_time": "2021-02-25T01:42:27.528092Z",
     "start_time": "2021-02-25T01:42:27.496532Z"
    }
   },
   "outputs": [
    {
     "data": {
      "text/html": [
       "<div>\n",
       "<style scoped>\n",
       "    .dataframe tbody tr th:only-of-type {\n",
       "        vertical-align: middle;\n",
       "    }\n",
       "\n",
       "    .dataframe tbody tr th {\n",
       "        vertical-align: top;\n",
       "    }\n",
       "\n",
       "    .dataframe thead th {\n",
       "        text-align: right;\n",
       "    }\n",
       "</style>\n",
       "<table border=\"1\" class=\"dataframe\">\n",
       "  <thead>\n",
       "    <tr style=\"text-align: right;\">\n",
       "      <th></th>\n",
       "      <th>movie</th>\n",
       "      <th>description</th>\n",
       "    </tr>\n",
       "  </thead>\n",
       "  <tbody>\n",
       "    <tr>\n",
       "      <th>0</th>\n",
       "      <td>The Little Things</td>\n",
       "      <td>Kern County Deputy Sheriff Joe Deacon is sent ...</td>\n",
       "    </tr>\n",
       "    <tr>\n",
       "      <th>1</th>\n",
       "      <td>The White Tiger</td>\n",
       "      <td>An ambitious Indian driver uses his wit and cu...</td>\n",
       "    </tr>\n",
       "    <tr>\n",
       "      <th>2</th>\n",
       "      <td>The Dig</td>\n",
       "      <td>An archaeologist embarks on the historically i...</td>\n",
       "    </tr>\n",
       "    <tr>\n",
       "      <th>3</th>\n",
       "      <td>Soul</td>\n",
       "      <td>After landing the gig of a lifetime, a New Yor...</td>\n",
       "    </tr>\n",
       "    <tr>\n",
       "      <th>4</th>\n",
       "      <td>Wonder Woman 1984</td>\n",
       "      <td>Diana must contend with a work colleague and b...</td>\n",
       "    </tr>\n",
       "    <tr>\n",
       "      <th>5</th>\n",
       "      <td>Promising Young Woman</td>\n",
       "      <td>A young woman, traumatized by a tragic event i...</td>\n",
       "    </tr>\n",
       "  </tbody>\n",
       "</table>\n",
       "</div>"
      ],
      "text/plain": [
       "                   movie                                        description\n",
       "0      The Little Things  Kern County Deputy Sheriff Joe Deacon is sent ...\n",
       "1        The White Tiger  An ambitious Indian driver uses his wit and cu...\n",
       "2                The Dig  An archaeologist embarks on the historically i...\n",
       "3                   Soul  After landing the gig of a lifetime, a New Yor...\n",
       "4      Wonder Woman 1984  Diana must contend with a work colleague and b...\n",
       "5  Promising Young Woman  A young woman, traumatized by a tragic event i..."
      ]
     },
     "execution_count": 293,
     "metadata": {},
     "output_type": "execute_result"
    }
   ],
   "source": [
    "# create table for movie description\n",
    "data02 = {'movie':  ['The Little Things', 'The White Tiger','The Dig','Soul','Wonder Woman 1984','Promising Young Woman'],\n",
    "        'description': ['Kern County Deputy Sheriff Joe Deacon is sent to Los Angeles for what should have been a quick evidence-gathering assignment. Instead, he becomes embroiled in the search for a serial killer who is terrorizing the city.', \n",
    "                        'An ambitious Indian driver uses his wit and cunning to escape from poverty and rise to the top. An epic journey based on the New York Times bestseller.',\n",
    "                        'An archaeologist embarks on the historically important excavation of Sutton Hoo in 1938.',\n",
    "                        'After landing the gig of a lifetime, a New York jazz pianist suddenly finds himself trapped in a strange land between Earth and the afterlife.',\n",
    "                        'Diana must contend with a work colleague and businessman, whose desire for extreme wealth sends the world down a path of destruction, after an ancient artifact that grants wishes goes missing.',\n",
    "                        'A young woman, traumatized by a tragic event in her past, seeks out vengeance against those who crossed her path.']\n",
    "        }\n",
    "\n",
    "df_desc = pd.DataFrame (data02, columns = ['movie','description'])\n",
    "df_desc"
   ]
  },
  {
   "cell_type": "code",
   "execution_count": 297,
   "metadata": {
    "ExecuteTime": {
     "end_time": "2021-02-25T01:46:56.131717Z",
     "start_time": "2021-02-25T01:46:56.096442Z"
    }
   },
   "outputs": [
    {
     "data": {
      "text/html": [
       "<div>\n",
       "<style scoped>\n",
       "    .dataframe tbody tr th:only-of-type {\n",
       "        vertical-align: middle;\n",
       "    }\n",
       "\n",
       "    .dataframe tbody tr th {\n",
       "        vertical-align: top;\n",
       "    }\n",
       "\n",
       "    .dataframe thead th {\n",
       "        text-align: right;\n",
       "    }\n",
       "</style>\n",
       "<table border=\"1\" class=\"dataframe\">\n",
       "  <thead>\n",
       "    <tr style=\"text-align: right;\">\n",
       "      <th></th>\n",
       "      <th>movieID</th>\n",
       "      <th>movie</th>\n",
       "      <th>description</th>\n",
       "    </tr>\n",
       "  </thead>\n",
       "  <tbody>\n",
       "    <tr>\n",
       "      <th>0</th>\n",
       "      <td>101</td>\n",
       "      <td>The Little Things</td>\n",
       "      <td>Kern County Deputy Sheriff Joe Deacon is sent ...</td>\n",
       "    </tr>\n",
       "    <tr>\n",
       "      <th>1</th>\n",
       "      <td>102</td>\n",
       "      <td>The White Tiger</td>\n",
       "      <td>An ambitious Indian driver uses his wit and cu...</td>\n",
       "    </tr>\n",
       "    <tr>\n",
       "      <th>2</th>\n",
       "      <td>103</td>\n",
       "      <td>The Dig</td>\n",
       "      <td>An archaeologist embarks on the historically i...</td>\n",
       "    </tr>\n",
       "    <tr>\n",
       "      <th>3</th>\n",
       "      <td>104</td>\n",
       "      <td>Soul</td>\n",
       "      <td>After landing the gig of a lifetime, a New Yor...</td>\n",
       "    </tr>\n",
       "    <tr>\n",
       "      <th>4</th>\n",
       "      <td>105</td>\n",
       "      <td>Wonder Woman 1984</td>\n",
       "      <td>Diana must contend with a work colleague and b...</td>\n",
       "    </tr>\n",
       "    <tr>\n",
       "      <th>5</th>\n",
       "      <td>106</td>\n",
       "      <td>Promising Young Woman</td>\n",
       "      <td>A young woman, traumatized by a tragic event i...</td>\n",
       "    </tr>\n",
       "  </tbody>\n",
       "</table>\n",
       "</div>"
      ],
      "text/plain": [
       "   movieID                  movie  \\\n",
       "0      101      The Little Things   \n",
       "1      102        The White Tiger   \n",
       "2      103                The Dig   \n",
       "3      104                   Soul   \n",
       "4      105      Wonder Woman 1984   \n",
       "5      106  Promising Young Woman   \n",
       "\n",
       "                                         description  \n",
       "0  Kern County Deputy Sheriff Joe Deacon is sent ...  \n",
       "1  An ambitious Indian driver uses his wit and cu...  \n",
       "2  An archaeologist embarks on the historically i...  \n",
       "3  After landing the gig of a lifetime, a New Yor...  \n",
       "4  Diana must contend with a work colleague and b...  \n",
       "5  A young woman, traumatized by a tragic event i...  "
      ]
     },
     "execution_count": 297,
     "metadata": {},
     "output_type": "execute_result"
    }
   ],
   "source": [
    "# merge together\n",
    "df_movie = pd.merge(left=movie, right=df_desc, how='outer')\n",
    "\n",
    "df_movie.sort_values(by='movie')\n",
    "df_movie"
   ]
  },
  {
   "cell_type": "markdown",
   "metadata": {},
   "source": [
    "## Create function for item-based recommender"
   ]
  },
  {
   "cell_type": "code",
   "execution_count": 300,
   "metadata": {
    "ExecuteTime": {
     "end_time": "2021-02-25T01:48:55.746327Z",
     "start_time": "2021-02-25T01:48:55.736278Z"
    }
   },
   "outputs": [],
   "source": [
    "\"\"\"\n",
    "print_user_summary\n",
    "Prints the users top 3 movies\n",
    "Parameters:\n",
    "    the user\n",
    "\"\"\"\n",
    "\n",
    "def print_user_summary(movieID):\n",
    "    # the header\n",
    "    print(\"*****Movie SUMMARY FOR Movie %d*****\" %(movieID))\n",
    "    return df_movie[df_movie['movieID']==movieID]"
   ]
  },
  {
   "cell_type": "code",
   "execution_count": 301,
   "metadata": {
    "ExecuteTime": {
     "end_time": "2021-02-25T01:49:07.406649Z",
     "start_time": "2021-02-25T01:49:07.388256Z"
    }
   },
   "outputs": [
    {
     "name": "stdout",
     "output_type": "stream",
     "text": [
      "*****Movie SUMMARY FOR Movie 101*****\n"
     ]
    },
    {
     "data": {
      "text/html": [
       "<div>\n",
       "<style scoped>\n",
       "    .dataframe tbody tr th:only-of-type {\n",
       "        vertical-align: middle;\n",
       "    }\n",
       "\n",
       "    .dataframe tbody tr th {\n",
       "        vertical-align: top;\n",
       "    }\n",
       "\n",
       "    .dataframe thead th {\n",
       "        text-align: right;\n",
       "    }\n",
       "</style>\n",
       "<table border=\"1\" class=\"dataframe\">\n",
       "  <thead>\n",
       "    <tr style=\"text-align: right;\">\n",
       "      <th></th>\n",
       "      <th>movieID</th>\n",
       "      <th>movie</th>\n",
       "      <th>description</th>\n",
       "    </tr>\n",
       "  </thead>\n",
       "  <tbody>\n",
       "    <tr>\n",
       "      <th>0</th>\n",
       "      <td>101</td>\n",
       "      <td>The Little Things</td>\n",
       "      <td>Kern County Deputy Sheriff Joe Deacon is sent ...</td>\n",
       "    </tr>\n",
       "  </tbody>\n",
       "</table>\n",
       "</div>"
      ],
      "text/plain": [
       "   movieID              movie  \\\n",
       "0      101  The Little Things   \n",
       "\n",
       "                                         description  \n",
       "0  Kern County Deputy Sheriff Joe Deacon is sent ...  "
      ]
     },
     "execution_count": 301,
     "metadata": {},
     "output_type": "execute_result"
    }
   ],
   "source": [
    "print_user_summary(101)"
   ]
  },
  {
   "cell_type": "code",
   "execution_count": 291,
   "metadata": {
    "ExecuteTime": {
     "end_time": "2021-02-25T01:37:24.532402Z",
     "start_time": "2021-02-25T01:37:24.396910Z"
    }
   },
   "outputs": [
    {
     "data": {
      "text/plain": [
       "array([[3, 0, 5, 0, 5, 3, 0],\n",
       "       [4, 0, 4, 0, 5, 2, 1],\n",
       "       [5, 4, 5, 0, 4, 0, 0],\n",
       "       [0, 5, 5, 3, 3, 3, 0],\n",
       "       [1, 5, 3, 4, 4, 4, 4],\n",
       "       [3, 4, 4, 5, 2, 5, 0]])"
      ]
     },
     "execution_count": 291,
     "metadata": {},
     "output_type": "execute_result"
    }
   ],
   "source": [
    "movie_features = ratings.pivot(index='movieID',columns='UserId',values='rating').fillna(0)\n",
    "mu_matrix = np.array(movie_features.values, dtype=int)\n",
    "mu_matrix"
   ]
  },
  {
   "cell_type": "code",
   "execution_count": 371,
   "metadata": {
    "ExecuteTime": {
     "end_time": "2021-02-25T03:26:22.484941Z",
     "start_time": "2021-02-25T03:26:22.452656Z"
    }
   },
   "outputs": [],
   "source": [
    "\"\"\"\n",
    "recommend\n",
    "Recommends [k] number of movies using [fn] with [depth] as the depth and on user [user].\n",
    "Parameters:\n",
    "    user: the user we are recommending to\n",
    "    depth: how many users are we comparing to this user\n",
    "    fn: the function used for calculating simularity and distance\n",
    "    k: the number of recommendations \n",
    "\"\"\"\n",
    "def recommend02 (user, clusters, fn, k):\n",
    "    print(\"############ RECOMMENDATION FOR MOVIE %d ############\" %(df_movie.loc[user-1]['movieID']))\n",
    "    print(\"Using %s for calculating similarity/distance with %d clusters\" %(fn,clusters))\n",
    "    # we want to use our simularity functions to develop a list of ratings that our user might rate a movie as.\n",
    "    # this allows us to think what our user will like the most in comparison\n",
    "    distances = simularity_matrix(user,fn,clusters)\n",
    "    #for each distance \n",
    "    all_unseen_movies = {}\n",
    "    for dist,o in distances: \n",
    "        # each movie is an index, the number of movies is the LENGTH of the items row\n",
    "        for i in range(0, len(mu_matrix[o])-1):\n",
    "            predicted_rank = int(dist*mu_matrix[o][i])\n",
    "            # update recommendations i to be the value of the similarity predicted rank \n",
    "            if (mu_matrix[o][i] > 0 and mu_matrix[user][i] <= 0): #if they ranked it but we didn't\n",
    "                # if we are already planning to recommend it, add more weight to the prediction and increase similarity!\n",
    "                all_unseen_movies[i] = (dist, [predicted_rank]) if i not in all_unseen_movies else (all_unseen_movies[i][0] + dist, all_unseen_movies[i][1] + [predicted_rank])   \n",
    "    # update all the values\n",
    "    for m in all_unseen_movies: \n",
    "        all_unseen_movies[m] = sum(all_unseen_movies[m][1])/all_unseen_movies[m][0] if all_unseen_movies[m][0] != 0 else 0 \n",
    "    # at this point we have a dictionary of all possible recommendations with the format:\n",
    "    # { [movie_id] : [predicted_rating]}\n",
    "    # lets pick the top 5!\n",
    "    recommend_movies = filter_results(all_unseen_movies,k)\n",
    "    # recommend movies outputs an array formatted like so: [ (movie_id, predicted rank)]\n",
    "    # lets print it in a nice way:\n",
    "    print_recommendations(recommend_movies)\n",
    "    return recommend_movies"
   ]
  },
  {
   "cell_type": "markdown",
   "metadata": {},
   "source": [
    "## 3. Item-based Recommender using Jaccard similarity\n"
   ]
  },
  {
   "cell_type": "code",
   "execution_count": 337,
   "metadata": {
    "ExecuteTime": {
     "end_time": "2021-02-25T02:29:24.357298Z",
     "start_time": "2021-02-25T02:29:24.343910Z"
    },
    "scrolled": true
   },
   "outputs": [
    {
     "name": "stdout",
     "output_type": "stream",
     "text": [
      "############ RECOMMENDATION FOR MOVIE 101 ############\n",
      "Using <function jaccard_similarity at 0x12e845f80> for calculating similarity/distance with 1 clusters\n",
      "----Recommendation 1----\n",
      "102 | The White Tiger | \n",
      "Predicted Rating: 0.000000\n",
      "-------------------------\n",
      "----Recommendation 2----\n",
      "104 | Soul | \n",
      "Predicted Rating: 0.000000\n",
      "-------------------------\n"
     ]
    },
    {
     "data": {
      "text/plain": [
       "[(1, 0.0), (3, 0.0)]"
      ]
     },
     "execution_count": 337,
     "metadata": {},
     "output_type": "execute_result"
    }
   ],
   "source": [
    "recommend02(1, 1, jaccard_similarity, 2)"
   ]
  },
  {
   "cell_type": "markdown",
   "metadata": {},
   "source": [
    "## 4. Item-based Recommender using Pearson similarity\n"
   ]
  },
  {
   "cell_type": "code",
   "execution_count": 340,
   "metadata": {
    "ExecuteTime": {
     "end_time": "2021-02-25T02:29:39.428370Z",
     "start_time": "2021-02-25T02:29:39.417501Z"
    }
   },
   "outputs": [
    {
     "name": "stdout",
     "output_type": "stream",
     "text": [
      "############ RECOMMENDATION FOR MOVIE 101 ############\n",
      "Using <function pearson_similarity at 0x12cc2b200> for calculating similarity/distance with 1 clusters\n",
      "----Recommendation 1----\n",
      "102 | The White Tiger | \n",
      "Predicted Rating: 4.000000\n",
      "-------------------------\n"
     ]
    },
    {
     "data": {
      "text/plain": [
       "[(1, 4.0)]"
      ]
     },
     "execution_count": 340,
     "metadata": {},
     "output_type": "execute_result"
    }
   ],
   "source": [
    "recommend02(1, 1, pearson_similarity, 2)"
   ]
  },
  {
   "cell_type": "markdown",
   "metadata": {},
   "source": [
    "# Part 3: User-based Recommender - group ratings into 0/1"
   ]
  },
  {
   "cell_type": "markdown",
   "metadata": {},
   "source": [
    "\n",
    "0 for ratings 1, 2, or 3, and 1 for ratings 4 and 5.\n",
    "\n",
    "## Prepare data - group ratings"
   ]
  },
  {
   "cell_type": "code",
   "execution_count": 356,
   "metadata": {
    "ExecuteTime": {
     "end_time": "2021-02-25T03:09:45.319737Z",
     "start_time": "2021-02-25T03:09:45.284143Z"
    }
   },
   "outputs": [
    {
     "data": {
      "text/html": [
       "<div>\n",
       "<style scoped>\n",
       "    .dataframe tbody tr th:only-of-type {\n",
       "        vertical-align: middle;\n",
       "    }\n",
       "\n",
       "    .dataframe tbody tr th {\n",
       "        vertical-align: top;\n",
       "    }\n",
       "\n",
       "    .dataframe thead th {\n",
       "        text-align: right;\n",
       "    }\n",
       "</style>\n",
       "<table border=\"1\" class=\"dataframe\">\n",
       "  <thead>\n",
       "    <tr style=\"text-align: right;\">\n",
       "      <th></th>\n",
       "      <th>UserId</th>\n",
       "      <th>movieID</th>\n",
       "      <th>rating</th>\n",
       "    </tr>\n",
       "  </thead>\n",
       "  <tbody>\n",
       "    <tr>\n",
       "      <th>0</th>\n",
       "      <td>1</td>\n",
       "      <td>101</td>\n",
       "      <td>3</td>\n",
       "    </tr>\n",
       "    <tr>\n",
       "      <th>1</th>\n",
       "      <td>2</td>\n",
       "      <td>101</td>\n",
       "      <td>0</td>\n",
       "    </tr>\n",
       "    <tr>\n",
       "      <th>2</th>\n",
       "      <td>3</td>\n",
       "      <td>101</td>\n",
       "      <td>5</td>\n",
       "    </tr>\n",
       "    <tr>\n",
       "      <th>3</th>\n",
       "      <td>4</td>\n",
       "      <td>101</td>\n",
       "      <td>0</td>\n",
       "    </tr>\n",
       "    <tr>\n",
       "      <th>4</th>\n",
       "      <td>5</td>\n",
       "      <td>101</td>\n",
       "      <td>5</td>\n",
       "    </tr>\n",
       "  </tbody>\n",
       "</table>\n",
       "</div>"
      ],
      "text/plain": [
       "   UserId  movieID  rating\n",
       "0       1      101       3\n",
       "1       2      101       0\n",
       "2       3      101       5\n",
       "3       4      101       0\n",
       "4       5      101       5"
      ]
     },
     "execution_count": 356,
     "metadata": {},
     "output_type": "execute_result"
    }
   ],
   "source": [
    "ratings.head()"
   ]
  },
  {
   "cell_type": "code",
   "execution_count": 357,
   "metadata": {
    "ExecuteTime": {
     "end_time": "2021-02-25T03:10:13.169886Z",
     "start_time": "2021-02-25T03:10:13.163571Z"
    }
   },
   "outputs": [],
   "source": [
    "ratings02 = ratings.copy()\n"
   ]
  },
  {
   "cell_type": "code",
   "execution_count": 358,
   "metadata": {
    "ExecuteTime": {
     "end_time": "2021-02-25T03:14:23.917536Z",
     "start_time": "2021-02-25T03:14:23.828678Z"
    }
   },
   "outputs": [
    {
     "data": {
      "text/html": [
       "<div>\n",
       "<style scoped>\n",
       "    .dataframe tbody tr th:only-of-type {\n",
       "        vertical-align: middle;\n",
       "    }\n",
       "\n",
       "    .dataframe tbody tr th {\n",
       "        vertical-align: top;\n",
       "    }\n",
       "\n",
       "    .dataframe thead th {\n",
       "        text-align: right;\n",
       "    }\n",
       "</style>\n",
       "<table border=\"1\" class=\"dataframe\">\n",
       "  <thead>\n",
       "    <tr style=\"text-align: right;\">\n",
       "      <th></th>\n",
       "      <th>UserId</th>\n",
       "      <th>movieID</th>\n",
       "      <th>rating</th>\n",
       "    </tr>\n",
       "  </thead>\n",
       "  <tbody>\n",
       "    <tr>\n",
       "      <th>0</th>\n",
       "      <td>1</td>\n",
       "      <td>101</td>\n",
       "      <td>0</td>\n",
       "    </tr>\n",
       "    <tr>\n",
       "      <th>1</th>\n",
       "      <td>2</td>\n",
       "      <td>101</td>\n",
       "      <td>0</td>\n",
       "    </tr>\n",
       "    <tr>\n",
       "      <th>2</th>\n",
       "      <td>3</td>\n",
       "      <td>101</td>\n",
       "      <td>1</td>\n",
       "    </tr>\n",
       "    <tr>\n",
       "      <th>3</th>\n",
       "      <td>4</td>\n",
       "      <td>101</td>\n",
       "      <td>0</td>\n",
       "    </tr>\n",
       "    <tr>\n",
       "      <th>4</th>\n",
       "      <td>5</td>\n",
       "      <td>101</td>\n",
       "      <td>1</td>\n",
       "    </tr>\n",
       "  </tbody>\n",
       "</table>\n",
       "</div>"
      ],
      "text/plain": [
       "   UserId  movieID  rating\n",
       "0       1      101       0\n",
       "1       2      101       0\n",
       "2       3      101       1\n",
       "3       4      101       0\n",
       "4       5      101       1"
      ]
     },
     "execution_count": 358,
     "metadata": {},
     "output_type": "execute_result"
    }
   ],
   "source": [
    "# group ratings\n",
    "ratings02.loc[ratings02['rating'] <= 3, 'rating'] = 0\n",
    "ratings02.loc[ratings02['rating'] > 3, 'rating'] = 1\n",
    "ratings02.head()"
   ]
  },
  {
   "cell_type": "markdown",
   "metadata": {},
   "source": [
    "## 5. User-based Recommender using Jaccard similarity\n"
   ]
  },
  {
   "cell_type": "code",
   "execution_count": 361,
   "metadata": {
    "ExecuteTime": {
     "end_time": "2021-02-25T03:22:37.820857Z",
     "start_time": "2021-02-25T03:22:37.715101Z"
    }
   },
   "outputs": [],
   "source": [
    "movie_features = ratings02.pivot(index='UserId',columns='movieID',values='rating').fillna(0)\n",
    "mu_matrix = np.array(movie_features.values, dtype=int)\n"
   ]
  },
  {
   "cell_type": "code",
   "execution_count": 369,
   "metadata": {
    "ExecuteTime": {
     "end_time": "2021-02-25T03:23:37.172807Z",
     "start_time": "2021-02-25T03:23:37.133418Z"
    }
   },
   "outputs": [
    {
     "name": "stdout",
     "output_type": "stream",
     "text": [
      "############ RECOMMENDATION FOR USER 1 ############\n",
      "Using <function jaccard_similarity at 0x12ce4be60> for calculating similarity/distance with 2 clusters\n",
      "----Recommendation 1----\n",
      "102 | The White Tiger | \n",
      "Predicted Rating: 0.000000\n",
      "-------------------------\n",
      "----Recommendation 2----\n",
      "101 | The Little Things | \n",
      "Predicted Rating: 0.000000\n",
      "-------------------------\n",
      "############ END OF RECOMMENDATION FOR USER 1 ############\n"
     ]
    },
    {
     "data": {
      "text/plain": [
       "[(1, 0.0), (0, 0.0)]"
      ]
     },
     "execution_count": 369,
     "metadata": {},
     "output_type": "execute_result"
    }
   ],
   "source": [
    "# top 2 recommendations for user1 by using jaccard_similarity\n",
    "recommend(1, 2, jaccard_similarity, 2)"
   ]
  },
  {
   "cell_type": "markdown",
   "metadata": {},
   "source": [
    "## 6. User-based Recommender using Pearson similarity\n",
    "\n"
   ]
  },
  {
   "cell_type": "code",
   "execution_count": 370,
   "metadata": {
    "ExecuteTime": {
     "end_time": "2021-02-25T03:24:56.770817Z",
     "start_time": "2021-02-25T03:24:56.690650Z"
    }
   },
   "outputs": [
    {
     "name": "stdout",
     "output_type": "stream",
     "text": [
      "############ RECOMMENDATION FOR USER 1 ############\n",
      "Using <function pearson_similarity at 0x12cc2b200> for calculating similarity/distance with 2 clusters\n",
      "----Recommendation 1----\n",
      "101 | The Little Things | \n",
      "Predicted Rating: 0.000000\n",
      "-------------------------\n",
      "----Recommendation 2----\n",
      "102 | The White Tiger | \n",
      "Predicted Rating: 0.000000\n",
      "-------------------------\n",
      "############ END OF RECOMMENDATION FOR USER 1 ############\n"
     ]
    },
    {
     "data": {
      "text/plain": [
       "[(0, 0), (1, 0)]"
      ]
     },
     "execution_count": 370,
     "metadata": {},
     "output_type": "execute_result"
    }
   ],
   "source": [
    "# top 2 recommendations for user1 by using pearson_similarity\n",
    "recommend(1, 2, pearson_similarity, 2)"
   ]
  },
  {
   "cell_type": "markdown",
   "metadata": {},
   "source": [
    "# Part 4: Item-based Recommender - group ratings into 0/1\n",
    "\n",
    "## 7. Item-based Recommender using Jaccard similarity\n"
   ]
  },
  {
   "cell_type": "code",
   "execution_count": 372,
   "metadata": {
    "ExecuteTime": {
     "end_time": "2021-02-25T03:26:35.803136Z",
     "start_time": "2021-02-25T03:26:35.755634Z"
    }
   },
   "outputs": [],
   "source": [
    "movie_features = ratings02.pivot(index='movieID',columns='UserId',values='rating').fillna(0)\n",
    "mu_matrix = np.array(movie_features.values, dtype=int)"
   ]
  },
  {
   "cell_type": "code",
   "execution_count": 373,
   "metadata": {
    "ExecuteTime": {
     "end_time": "2021-02-25T03:26:56.279453Z",
     "start_time": "2021-02-25T03:26:56.252067Z"
    }
   },
   "outputs": [
    {
     "name": "stdout",
     "output_type": "stream",
     "text": [
      "############ RECOMMENDATION FOR MOVIE 101 ############\n",
      "Using <function jaccard_similarity at 0x12ce4be60> for calculating similarity/distance with 1 clusters\n",
      "----Recommendation 1----\n",
      "102 | The White Tiger | \n",
      "Predicted Rating: 0.000000\n",
      "-------------------------\n",
      "----Recommendation 2----\n",
      "104 | Soul | \n",
      "Predicted Rating: 0.000000\n",
      "-------------------------\n"
     ]
    },
    {
     "data": {
      "text/plain": [
       "[(1, 0.0), (3, 0.0)]"
      ]
     },
     "execution_count": 373,
     "metadata": {},
     "output_type": "execute_result"
    }
   ],
   "source": [
    "recommend02(1, 1, jaccard_similarity, 2)"
   ]
  },
  {
   "cell_type": "markdown",
   "metadata": {},
   "source": [
    "## 8. Item-based Recommender using Pearson similarity"
   ]
  },
  {
   "cell_type": "code",
   "execution_count": 374,
   "metadata": {
    "ExecuteTime": {
     "end_time": "2021-02-25T03:27:39.658457Z",
     "start_time": "2021-02-25T03:27:39.642179Z"
    }
   },
   "outputs": [
    {
     "name": "stdout",
     "output_type": "stream",
     "text": [
      "############ RECOMMENDATION FOR MOVIE 101 ############\n",
      "Using <function pearson_similarity at 0x12cc2b200> for calculating similarity/distance with 1 clusters\n",
      "----Recommendation 1----\n",
      "102 | The White Tiger | \n",
      "Predicted Rating: 0.000000\n",
      "-------------------------\n",
      "----Recommendation 2----\n",
      "104 | Soul | \n",
      "Predicted Rating: 0.000000\n",
      "-------------------------\n"
     ]
    },
    {
     "data": {
      "text/plain": [
       "[(1, 0), (3, 0)]"
      ]
     },
     "execution_count": 374,
     "metadata": {},
     "output_type": "execute_result"
    }
   ],
   "source": [
    "recommend02(1, 1, pearson_similarity, 2)"
   ]
  }
 ],
 "metadata": {
  "hide_input": false,
  "kernelspec": {
   "display_name": "Python 3",
   "language": "python",
   "name": "python3"
  },
  "language_info": {
   "codemirror_mode": {
    "name": "ipython",
    "version": 3
   },
   "file_extension": ".py",
   "mimetype": "text/x-python",
   "name": "python",
   "nbconvert_exporter": "python",
   "pygments_lexer": "ipython3",
   "version": "3.7.4"
  },
  "varInspector": {
   "cols": {
    "lenName": 16,
    "lenType": 16,
    "lenVar": 40
   },
   "kernels_config": {
    "python": {
     "delete_cmd_postfix": "",
     "delete_cmd_prefix": "del ",
     "library": "var_list.py",
     "varRefreshCmd": "print(var_dic_list())"
    },
    "r": {
     "delete_cmd_postfix": ") ",
     "delete_cmd_prefix": "rm(",
     "library": "var_list.r",
     "varRefreshCmd": "cat(var_dic_list()) "
    }
   },
   "types_to_exclude": [
    "module",
    "function",
    "builtin_function_or_method",
    "instance",
    "_Feature"
   ],
   "window_display": false
  }
 },
 "nbformat": 4,
 "nbformat_minor": 2
}

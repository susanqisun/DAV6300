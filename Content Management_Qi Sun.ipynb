{
 "cells": [
  {
   "cell_type": "markdown",
   "metadata": {},
   "source": [
    "## Assignment - Content Management\n",
    "\n",
    "-by Qi Sun\n",
    "\n",
    "**Purpose: In this assignment, you’re asked to build a content management system to rate the unrated movies for at least one of your first assignment’s survey participants.**\n",
    "\n",
    "\n",
    "Here is the survey that I designed for my first assignment.\n",
    "\n",
    "<img src=\"https://raw.githubusercontent.com/susanqisun/DAV6300/main/Screen%20Shot%202021-02-02%20at%201.47.20%20PM.png\" width=\"500\">\n",
    "\n",
    "The movie informtion was downloaded here:\n",
    "\n",
    "https://www.imdb.com/chart/moviemeter/\n",
    "\n"
   ]
  },
  {
   "cell_type": "markdown",
   "metadata": {},
   "source": [
    "## 1.1 Load Survey data"
   ]
  },
  {
   "cell_type": "code",
   "execution_count": 2,
   "metadata": {
    "ExecuteTime": {
     "end_time": "2021-02-15T03:38:09.152958Z",
     "start_time": "2021-02-15T03:38:08.393864Z"
    }
   },
   "outputs": [
    {
     "data": {
      "text/html": [
       "<div>\n",
       "<style scoped>\n",
       "    .dataframe tbody tr th:only-of-type {\n",
       "        vertical-align: middle;\n",
       "    }\n",
       "\n",
       "    .dataframe tbody tr th {\n",
       "        vertical-align: top;\n",
       "    }\n",
       "\n",
       "    .dataframe thead th {\n",
       "        text-align: right;\n",
       "    }\n",
       "</style>\n",
       "<table border=\"1\" class=\"dataframe\">\n",
       "  <thead>\n",
       "    <tr style=\"text-align: right;\">\n",
       "      <th></th>\n",
       "      <th>UserID</th>\n",
       "      <th>The Little Things</th>\n",
       "      <th>The White Tiger</th>\n",
       "      <th>The Dig</th>\n",
       "      <th>Soul</th>\n",
       "      <th>Wonder Woman 1984</th>\n",
       "      <th>Promising Young Woman</th>\n",
       "    </tr>\n",
       "  </thead>\n",
       "  <tbody>\n",
       "    <tr>\n",
       "      <th>0</th>\n",
       "      <td>1</td>\n",
       "      <td>3</td>\n",
       "      <td>4</td>\n",
       "      <td>5</td>\n",
       "      <td>Not Sure</td>\n",
       "      <td>1</td>\n",
       "      <td>3.0</td>\n",
       "    </tr>\n",
       "    <tr>\n",
       "      <th>1</th>\n",
       "      <td>2</td>\n",
       "      <td>Not Sure</td>\n",
       "      <td>Not Sure</td>\n",
       "      <td>4</td>\n",
       "      <td>5</td>\n",
       "      <td>5</td>\n",
       "      <td>4.0</td>\n",
       "    </tr>\n",
       "    <tr>\n",
       "      <th>2</th>\n",
       "      <td>3</td>\n",
       "      <td>5</td>\n",
       "      <td>4</td>\n",
       "      <td>5</td>\n",
       "      <td>5</td>\n",
       "      <td>3</td>\n",
       "      <td>4.0</td>\n",
       "    </tr>\n",
       "    <tr>\n",
       "      <th>3</th>\n",
       "      <td>4</td>\n",
       "      <td>Not Sure</td>\n",
       "      <td>Not Sure</td>\n",
       "      <td>Not Sure</td>\n",
       "      <td>3</td>\n",
       "      <td>4</td>\n",
       "      <td>5.0</td>\n",
       "    </tr>\n",
       "    <tr>\n",
       "      <th>4</th>\n",
       "      <td>5</td>\n",
       "      <td>5</td>\n",
       "      <td>5</td>\n",
       "      <td>4</td>\n",
       "      <td>3</td>\n",
       "      <td>4</td>\n",
       "      <td>2.0</td>\n",
       "    </tr>\n",
       "    <tr>\n",
       "      <th>5</th>\n",
       "      <td>6</td>\n",
       "      <td>3</td>\n",
       "      <td>2</td>\n",
       "      <td>NaN</td>\n",
       "      <td>3</td>\n",
       "      <td>4</td>\n",
       "      <td>5.0</td>\n",
       "    </tr>\n",
       "    <tr>\n",
       "      <th>6</th>\n",
       "      <td>7</td>\n",
       "      <td>NaN</td>\n",
       "      <td>1</td>\n",
       "      <td>NaN</td>\n",
       "      <td>NaN</td>\n",
       "      <td>4</td>\n",
       "      <td>NaN</td>\n",
       "    </tr>\n",
       "  </tbody>\n",
       "</table>\n",
       "</div>"
      ],
      "text/plain": [
       "   UserID The Little Things The White Tiger   The Dig      Soul  \\\n",
       "0       1                 3               4         5  Not Sure   \n",
       "1       2          Not Sure        Not Sure         4         5   \n",
       "2       3                 5               4         5         5   \n",
       "3       4          Not Sure        Not Sure  Not Sure         3   \n",
       "4       5                 5               5         4         3   \n",
       "5       6                 3               2       NaN         3   \n",
       "6       7               NaN               1       NaN       NaN   \n",
       "\n",
       "   Wonder Woman 1984  Promising Young Woman  \n",
       "0                  1                    3.0  \n",
       "1                  5                    4.0  \n",
       "2                  3                    4.0  \n",
       "3                  4                    5.0  \n",
       "4                  4                    2.0  \n",
       "5                  4                    5.0  \n",
       "6                  4                    NaN  "
      ]
     },
     "execution_count": 2,
     "metadata": {},
     "output_type": "execute_result"
    }
   ],
   "source": [
    "import pandas as pd\n",
    "import numpy as np\n",
    "\n",
    "# survey results\n",
    "df_survey = pd.read_csv('https://raw.githubusercontent.com/susanqisun/DAV6300/main/movie%20recommender.csv')\n",
    "df_survey\n"
   ]
  },
  {
   "cell_type": "markdown",
   "metadata": {},
   "source": [
    "## 1.2 Clean Survey Data"
   ]
  },
  {
   "cell_type": "code",
   "execution_count": 32,
   "metadata": {
    "ExecuteTime": {
     "end_time": "2021-02-15T03:46:30.360974Z",
     "start_time": "2021-02-15T03:46:30.350869Z"
    }
   },
   "outputs": [],
   "source": [
    "df_survey02 = df_survey.replace('Not Sure',np.NaN)"
   ]
  },
  {
   "cell_type": "markdown",
   "metadata": {},
   "source": [
    "## 1.3 Movies with top 3 ratings for each user\n",
    "\n"
   ]
  },
  {
   "cell_type": "code",
   "execution_count": 33,
   "metadata": {
    "ExecuteTime": {
     "end_time": "2021-02-15T03:47:53.498141Z",
     "start_time": "2021-02-15T03:47:53.339540Z"
    }
   },
   "outputs": [
    {
     "data": {
      "text/html": [
       "<div>\n",
       "<style scoped>\n",
       "    .dataframe tbody tr th:only-of-type {\n",
       "        vertical-align: middle;\n",
       "    }\n",
       "\n",
       "    .dataframe tbody tr th {\n",
       "        vertical-align: top;\n",
       "    }\n",
       "\n",
       "    .dataframe thead th {\n",
       "        text-align: right;\n",
       "    }\n",
       "</style>\n",
       "<table border=\"1\" class=\"dataframe\">\n",
       "  <thead>\n",
       "    <tr style=\"text-align: right;\">\n",
       "      <th></th>\n",
       "      <th>UserID</th>\n",
       "      <th>1st Max</th>\n",
       "      <th>Max1Value</th>\n",
       "      <th>2nd Max</th>\n",
       "      <th>Max2Value</th>\n",
       "      <th>3rd Max</th>\n",
       "      <th>Max3Value</th>\n",
       "    </tr>\n",
       "  </thead>\n",
       "  <tbody>\n",
       "    <tr>\n",
       "      <th>0</th>\n",
       "      <td>1</td>\n",
       "      <td>The Dig</td>\n",
       "      <td>5.0</td>\n",
       "      <td>The White Tiger</td>\n",
       "      <td>4.0</td>\n",
       "      <td>The Little Things</td>\n",
       "      <td>3.0</td>\n",
       "    </tr>\n",
       "    <tr>\n",
       "      <th>1</th>\n",
       "      <td>2</td>\n",
       "      <td>Soul</td>\n",
       "      <td>5.0</td>\n",
       "      <td>Wonder Woman 1984</td>\n",
       "      <td>5.0</td>\n",
       "      <td>The Dig</td>\n",
       "      <td>4.0</td>\n",
       "    </tr>\n",
       "    <tr>\n",
       "      <th>2</th>\n",
       "      <td>3</td>\n",
       "      <td>The Little Things</td>\n",
       "      <td>5.0</td>\n",
       "      <td>The Dig</td>\n",
       "      <td>5.0</td>\n",
       "      <td>Soul</td>\n",
       "      <td>5.0</td>\n",
       "    </tr>\n",
       "    <tr>\n",
       "      <th>3</th>\n",
       "      <td>4</td>\n",
       "      <td>Promising Young Woman</td>\n",
       "      <td>5.0</td>\n",
       "      <td>Wonder Woman 1984</td>\n",
       "      <td>4.0</td>\n",
       "      <td>Soul</td>\n",
       "      <td>3.0</td>\n",
       "    </tr>\n",
       "    <tr>\n",
       "      <th>4</th>\n",
       "      <td>5</td>\n",
       "      <td>The Little Things</td>\n",
       "      <td>5.0</td>\n",
       "      <td>The White Tiger</td>\n",
       "      <td>5.0</td>\n",
       "      <td>The Dig</td>\n",
       "      <td>4.0</td>\n",
       "    </tr>\n",
       "    <tr>\n",
       "      <th>5</th>\n",
       "      <td>6</td>\n",
       "      <td>Promising Young Woman</td>\n",
       "      <td>5.0</td>\n",
       "      <td>Wonder Woman 1984</td>\n",
       "      <td>4.0</td>\n",
       "      <td>The Little Things</td>\n",
       "      <td>3.0</td>\n",
       "    </tr>\n",
       "    <tr>\n",
       "      <th>6</th>\n",
       "      <td>7</td>\n",
       "      <td>Wonder Woman 1984</td>\n",
       "      <td>4.0</td>\n",
       "      <td>The White Tiger</td>\n",
       "      <td>1.0</td>\n",
       "      <td>The Little Things</td>\n",
       "      <td>0.0</td>\n",
       "    </tr>\n",
       "  </tbody>\n",
       "</table>\n",
       "</div>"
      ],
      "text/plain": [
       "   UserID                1st Max  Max1Value            2nd Max  Max2Value  \\\n",
       "0       1                The Dig        5.0    The White Tiger        4.0   \n",
       "1       2                   Soul        5.0  Wonder Woman 1984        5.0   \n",
       "2       3      The Little Things        5.0            The Dig        5.0   \n",
       "3       4  Promising Young Woman        5.0  Wonder Woman 1984        4.0   \n",
       "4       5      The Little Things        5.0    The White Tiger        5.0   \n",
       "5       6  Promising Young Woman        5.0  Wonder Woman 1984        4.0   \n",
       "6       7      Wonder Woman 1984        4.0    The White Tiger        1.0   \n",
       "\n",
       "             3rd Max  Max3Value  \n",
       "0  The Little Things        3.0  \n",
       "1            The Dig        4.0  \n",
       "2               Soul        5.0  \n",
       "3               Soul        3.0  \n",
       "4            The Dig        4.0  \n",
       "5  The Little Things        3.0  \n",
       "6  The Little Things        0.0  "
      ]
     },
     "execution_count": 33,
     "metadata": {},
     "output_type": "execute_result"
    }
   ],
   "source": [
    "# https://stackoverflow.com/questions/28609667/pandas-find-column-name-and-value-with-max-and-second-max-value-for-each-row\n",
    "\n",
    "df03 = df_survey02.copy()\n",
    "\n",
    "def top(x):\n",
    "    x.set_index('UserID', inplace=True)\n",
    "    df03 = pd.DataFrame({'1st Max':[],'Max1Value':[],'2nd Max':[],'Max2Value':[],'3rd Max':[],'Max3Value':[]})\n",
    "    df03.index.name='User'\n",
    "    df03.loc[x.index.values[0],['1st Max', '2nd Max','3rd Max']] = x.sum().nlargest(3).index.tolist()\n",
    "    df03.loc[x.index.values[0],['Max1Value', 'Max2Value','Max3Value']] = x.sum().nlargest(3).values\n",
    "    return df03\n",
    "\n",
    "df_top = df03.groupby('UserID').apply(top).reset_index(level=1, drop=True).reset_index()\n",
    "df_top\n",
    "\n"
   ]
  },
  {
   "cell_type": "markdown",
   "metadata": {},
   "source": [
    "## 2.1 Create Movie Genre dataset\n",
    "\n",
    "Assignemnt requirement: Look up movie genres on IMBD. One movie can have multiple genres.  Use this information to build a list of content-based recommendations.  Indicate the top movie that you would recommend to each participant that you are analyzing.\n",
    "\n"
   ]
  },
  {
   "cell_type": "code",
   "execution_count": 6,
   "metadata": {
    "ExecuteTime": {
     "end_time": "2021-02-15T03:39:38.884987Z",
     "start_time": "2021-02-15T03:39:38.867355Z"
    }
   },
   "outputs": [
    {
     "data": {
      "text/html": [
       "<div>\n",
       "<style scoped>\n",
       "    .dataframe tbody tr th:only-of-type {\n",
       "        vertical-align: middle;\n",
       "    }\n",
       "\n",
       "    .dataframe tbody tr th {\n",
       "        vertical-align: top;\n",
       "    }\n",
       "\n",
       "    .dataframe thead th {\n",
       "        text-align: right;\n",
       "    }\n",
       "</style>\n",
       "<table border=\"1\" class=\"dataframe\">\n",
       "  <thead>\n",
       "    <tr style=\"text-align: right;\">\n",
       "      <th></th>\n",
       "      <th>title</th>\n",
       "      <th>genre</th>\n",
       "    </tr>\n",
       "  </thead>\n",
       "  <tbody>\n",
       "    <tr>\n",
       "      <th>0</th>\n",
       "      <td>The Little Things</td>\n",
       "      <td>Crime, Drama, Thriller</td>\n",
       "    </tr>\n",
       "    <tr>\n",
       "      <th>1</th>\n",
       "      <td>The White Tiger</td>\n",
       "      <td>Crime, Drama</td>\n",
       "    </tr>\n",
       "    <tr>\n",
       "      <th>2</th>\n",
       "      <td>The Dig</td>\n",
       "      <td>Biography, Drama, History</td>\n",
       "    </tr>\n",
       "    <tr>\n",
       "      <th>3</th>\n",
       "      <td>Soul</td>\n",
       "      <td>Animation, Adventure, Comedy</td>\n",
       "    </tr>\n",
       "    <tr>\n",
       "      <th>4</th>\n",
       "      <td>Wonder Woman 1984</td>\n",
       "      <td>Action, Adventure, Fantasy</td>\n",
       "    </tr>\n",
       "    <tr>\n",
       "      <th>5</th>\n",
       "      <td>Promising Young Woman</td>\n",
       "      <td>Crime, Drama, Thriller</td>\n",
       "    </tr>\n",
       "  </tbody>\n",
       "</table>\n",
       "</div>"
      ],
      "text/plain": [
       "                   title                         genre\n",
       "0      The Little Things        Crime, Drama, Thriller\n",
       "1        The White Tiger                  Crime, Drama\n",
       "2                The Dig     Biography, Drama, History\n",
       "3                   Soul  Animation, Adventure, Comedy\n",
       "4      Wonder Woman 1984    Action, Adventure, Fantasy\n",
       "5  Promising Young Woman        Crime, Drama, Thriller"
      ]
     },
     "execution_count": 6,
     "metadata": {},
     "output_type": "execute_result"
    }
   ],
   "source": [
    "# create table for movie genres\n",
    "data = {'title':  ['The Little Things', 'The White Tiger','The Dig','Soul','Wonder Woman 1984','Promising Young Woman'],\n",
    "        'genre': ['Crime, Drama, Thriller', 'Crime, Drama','Biography, Drama, History','Animation, Adventure, Comedy','Action, Adventure, Fantasy','Crime, Drama, Thriller']\n",
    "        }\n",
    "\n",
    "df = pd.DataFrame (data, columns = ['title','genre'])\n",
    "df\n"
   ]
  },
  {
   "cell_type": "markdown",
   "metadata": {},
   "source": [
    "## 2.2 Which are the most popular genres?"
   ]
  },
  {
   "cell_type": "code",
   "execution_count": 7,
   "metadata": {
    "ExecuteTime": {
     "end_time": "2021-02-15T03:39:43.914886Z",
     "start_time": "2021-02-15T03:39:43.900892Z"
    }
   },
   "outputs": [
    {
     "data": {
      "text/plain": [
       " Drama        4\n",
       "Crime         3\n",
       " Adventure    2\n",
       " Thriller     2\n",
       "Animation     1\n",
       " Comedy       1\n",
       "Action        1\n",
       " Fantasy      1\n",
       " History      1\n",
       "Biography     1\n",
       "Name: genre, dtype: int64"
      ]
     },
     "execution_count": 7,
     "metadata": {},
     "output_type": "execute_result"
    }
   ],
   "source": [
    "genre_popularity = (df.genre.str.split(',')\n",
    "                      .explode()\n",
    "                      .value_counts()\n",
    "                      .sort_values(ascending=False))\n",
    "genre_popularity.head(10)"
   ]
  },
  {
   "cell_type": "markdown",
   "metadata": {},
   "source": [
    "## 2.3 Build a content based recommender using genre\n",
    "\n",
    "Code reference: https://towardsdatascience.com/content-based-recommender-systems-28a1dbd858f5\n",
    "\n",
    "### tf-idf\n",
    "\n",
    "To obtain the tf-idf vectors I'll be using sklearn's TfidfVectorizer."
   ]
  },
  {
   "cell_type": "code",
   "execution_count": 8,
   "metadata": {
    "ExecuteTime": {
     "end_time": "2021-02-15T03:39:46.489758Z",
     "start_time": "2021-02-15T03:39:46.475172Z"
    }
   },
   "outputs": [
    {
     "data": {
      "text/plain": [
       "(6, 26)"
      ]
     },
     "execution_count": 8,
     "metadata": {},
     "output_type": "execute_result"
    }
   ],
   "source": [
    "#https://towardsdatascience.com/content-based-recommender-systems-28a1dbd858f5\n",
    "from sklearn.feature_extraction.text import TfidfVectorizer\n",
    "from itertools import combinations\n",
    "\n",
    "tf = TfidfVectorizer(analyzer=lambda s: (c for i in range(1,4) #Here we're finding the sets of combinations of genres up to k (4 here).\n",
    "                     for c in combinations(s.split(','), r=i)))\n",
    "tfidf_matrix = tf.fit_transform(df['genre'])\n",
    "tfidf_matrix.shape"
   ]
  },
  {
   "cell_type": "markdown",
   "metadata": {},
   "source": [
    "### tf-idf vectors "
   ]
  },
  {
   "cell_type": "code",
   "execution_count": 10,
   "metadata": {
    "ExecuteTime": {
     "end_time": "2021-02-15T03:40:07.563060Z",
     "start_time": "2021-02-15T03:40:07.536149Z"
    }
   },
   "outputs": [
    {
     "data": {
      "text/html": [
       "<div>\n",
       "<style scoped>\n",
       "    .dataframe tbody tr th:only-of-type {\n",
       "        vertical-align: middle;\n",
       "    }\n",
       "\n",
       "    .dataframe tbody tr th {\n",
       "        vertical-align: top;\n",
       "    }\n",
       "\n",
       "    .dataframe thead th {\n",
       "        text-align: right;\n",
       "    }\n",
       "</style>\n",
       "<table border=\"1\" class=\"dataframe\">\n",
       "  <thead>\n",
       "    <tr style=\"text-align: right;\">\n",
       "      <th></th>\n",
       "      <th>(Crime,  Drama,  Thriller)</th>\n",
       "      <th>(Action,  Adventure,  Fantasy)</th>\n",
       "      <th>( Comedy,)</th>\n",
       "      <th>(Biography,)</th>\n",
       "      <th>(Action,  Fantasy)</th>\n",
       "      <th>(Biography,  Drama)</th>\n",
       "      <th>(Animation,)</th>\n",
       "      <th>( Drama,  History)</th>\n",
       "    </tr>\n",
       "    <tr>\n",
       "      <th>title</th>\n",
       "      <th></th>\n",
       "      <th></th>\n",
       "      <th></th>\n",
       "      <th></th>\n",
       "      <th></th>\n",
       "      <th></th>\n",
       "      <th></th>\n",
       "      <th></th>\n",
       "    </tr>\n",
       "  </thead>\n",
       "  <tbody>\n",
       "    <tr>\n",
       "      <th>Promising Young Woman</th>\n",
       "      <td>0.409995</td>\n",
       "      <td>0.000000</td>\n",
       "      <td>0.000000</td>\n",
       "      <td>0.000000</td>\n",
       "      <td>0.000000</td>\n",
       "      <td>0.000000</td>\n",
       "      <td>0.000000</td>\n",
       "      <td>0.000000</td>\n",
       "    </tr>\n",
       "    <tr>\n",
       "      <th>Wonder Woman 1984</th>\n",
       "      <td>0.000000</td>\n",
       "      <td>0.387131</td>\n",
       "      <td>0.000000</td>\n",
       "      <td>0.000000</td>\n",
       "      <td>0.387131</td>\n",
       "      <td>0.000000</td>\n",
       "      <td>0.000000</td>\n",
       "      <td>0.000000</td>\n",
       "    </tr>\n",
       "    <tr>\n",
       "      <th>The Little Things</th>\n",
       "      <td>0.409995</td>\n",
       "      <td>0.000000</td>\n",
       "      <td>0.000000</td>\n",
       "      <td>0.000000</td>\n",
       "      <td>0.000000</td>\n",
       "      <td>0.000000</td>\n",
       "      <td>0.000000</td>\n",
       "      <td>0.000000</td>\n",
       "    </tr>\n",
       "    <tr>\n",
       "      <th>The Dig</th>\n",
       "      <td>0.000000</td>\n",
       "      <td>0.000000</td>\n",
       "      <td>0.000000</td>\n",
       "      <td>0.396777</td>\n",
       "      <td>0.000000</td>\n",
       "      <td>0.396777</td>\n",
       "      <td>0.000000</td>\n",
       "      <td>0.396777</td>\n",
       "    </tr>\n",
       "    <tr>\n",
       "      <th>The White Tiger</th>\n",
       "      <td>0.000000</td>\n",
       "      <td>0.000000</td>\n",
       "      <td>0.000000</td>\n",
       "      <td>0.000000</td>\n",
       "      <td>0.000000</td>\n",
       "      <td>0.000000</td>\n",
       "      <td>0.000000</td>\n",
       "      <td>0.000000</td>\n",
       "    </tr>\n",
       "    <tr>\n",
       "      <th>Soul</th>\n",
       "      <td>0.000000</td>\n",
       "      <td>0.000000</td>\n",
       "      <td>0.387131</td>\n",
       "      <td>0.000000</td>\n",
       "      <td>0.000000</td>\n",
       "      <td>0.000000</td>\n",
       "      <td>0.387131</td>\n",
       "      <td>0.000000</td>\n",
       "    </tr>\n",
       "  </tbody>\n",
       "</table>\n",
       "</div>"
      ],
      "text/plain": [
       "                       (Crime,  Drama,  Thriller)  \\\n",
       "title                                               \n",
       "Promising Young Woman                    0.409995   \n",
       "Wonder Woman 1984                        0.000000   \n",
       "The Little Things                        0.409995   \n",
       "The Dig                                  0.000000   \n",
       "The White Tiger                          0.000000   \n",
       "Soul                                     0.000000   \n",
       "\n",
       "                       (Action,  Adventure,  Fantasy)  ( Comedy,)  \\\n",
       "title                                                               \n",
       "Promising Young Woman                        0.000000    0.000000   \n",
       "Wonder Woman 1984                            0.387131    0.000000   \n",
       "The Little Things                            0.000000    0.000000   \n",
       "The Dig                                      0.000000    0.000000   \n",
       "The White Tiger                              0.000000    0.000000   \n",
       "Soul                                         0.000000    0.387131   \n",
       "\n",
       "                       (Biography,)  (Action,  Fantasy)  (Biography,  Drama)  \\\n",
       "title                                                                          \n",
       "Promising Young Woman      0.000000            0.000000             0.000000   \n",
       "Wonder Woman 1984          0.000000            0.387131             0.000000   \n",
       "The Little Things          0.000000            0.000000             0.000000   \n",
       "The Dig                    0.396777            0.000000             0.396777   \n",
       "The White Tiger            0.000000            0.000000             0.000000   \n",
       "Soul                       0.000000            0.000000             0.000000   \n",
       "\n",
       "                       (Animation,)  ( Drama,  History)  \n",
       "title                                                    \n",
       "Promising Young Woman      0.000000            0.000000  \n",
       "Wonder Woman 1984          0.000000            0.000000  \n",
       "The Little Things          0.000000            0.000000  \n",
       "The Dig                    0.000000            0.396777  \n",
       "The White Tiger            0.000000            0.000000  \n",
       "Soul                       0.387131            0.000000  "
      ]
     },
     "execution_count": 10,
     "metadata": {},
     "output_type": "execute_result"
    }
   ],
   "source": [
    "pd.DataFrame(tfidf_matrix.todense(), columns=tf.get_feature_names(),index=df.title).sample(8, axis=1).sample(6, axis=0)\n"
   ]
  },
  {
   "cell_type": "markdown",
   "metadata": {},
   "source": [
    "### Similarity between vectors"
   ]
  },
  {
   "cell_type": "code",
   "execution_count": null,
   "metadata": {
    "ExecuteTime": {
     "end_time": "2021-02-15T03:40:38.814699Z",
     "start_time": "2021-02-15T03:40:38.780396Z"
    }
   },
   "outputs": [],
   "source": [
    "from sklearn.metrics.pairwise import cosine_similarity\n",
    "cosine_sim = cosine_similarity(tfidf_matrix)"
   ]
  },
  {
   "cell_type": "code",
   "execution_count": 12,
   "metadata": {
    "ExecuteTime": {
     "end_time": "2021-02-15T03:40:41.311540Z",
     "start_time": "2021-02-15T03:40:41.279652Z"
    }
   },
   "outputs": [
    {
     "name": "stdout",
     "output_type": "stream",
     "text": [
      "Shape: (6, 6)\n"
     ]
    },
    {
     "data": {
      "text/html": [
       "<div>\n",
       "<style scoped>\n",
       "    .dataframe tbody tr th:only-of-type {\n",
       "        vertical-align: middle;\n",
       "    }\n",
       "\n",
       "    .dataframe tbody tr th {\n",
       "        vertical-align: top;\n",
       "    }\n",
       "\n",
       "    .dataframe thead th {\n",
       "        text-align: right;\n",
       "    }\n",
       "</style>\n",
       "<table border=\"1\" class=\"dataframe\">\n",
       "  <thead>\n",
       "    <tr style=\"text-align: right;\">\n",
       "      <th>title</th>\n",
       "      <th>The Little Things</th>\n",
       "      <th>Promising Young Woman</th>\n",
       "      <th>The White Tiger</th>\n",
       "      <th>The Dig</th>\n",
       "      <th>Wonder Woman 1984</th>\n",
       "    </tr>\n",
       "    <tr>\n",
       "      <th>title</th>\n",
       "      <th></th>\n",
       "      <th></th>\n",
       "      <th></th>\n",
       "      <th></th>\n",
       "      <th></th>\n",
       "    </tr>\n",
       "  </thead>\n",
       "  <tbody>\n",
       "    <tr>\n",
       "      <th>The Little Things</th>\n",
       "      <td>1.00</td>\n",
       "      <td>1.00</td>\n",
       "      <td>0.57</td>\n",
       "      <td>0.07</td>\n",
       "      <td>0.0</td>\n",
       "    </tr>\n",
       "    <tr>\n",
       "      <th>The White Tiger</th>\n",
       "      <td>0.57</td>\n",
       "      <td>0.57</td>\n",
       "      <td>1.00</td>\n",
       "      <td>0.12</td>\n",
       "      <td>0.0</td>\n",
       "    </tr>\n",
       "    <tr>\n",
       "      <th>The Dig</th>\n",
       "      <td>0.07</td>\n",
       "      <td>0.07</td>\n",
       "      <td>0.12</td>\n",
       "      <td>1.00</td>\n",
       "      <td>0.0</td>\n",
       "    </tr>\n",
       "    <tr>\n",
       "      <th>Soul</th>\n",
       "      <td>0.00</td>\n",
       "      <td>0.00</td>\n",
       "      <td>0.00</td>\n",
       "      <td>0.00</td>\n",
       "      <td>0.1</td>\n",
       "    </tr>\n",
       "    <tr>\n",
       "      <th>Wonder Woman 1984</th>\n",
       "      <td>0.00</td>\n",
       "      <td>0.00</td>\n",
       "      <td>0.00</td>\n",
       "      <td>0.00</td>\n",
       "      <td>1.0</td>\n",
       "    </tr>\n",
       "    <tr>\n",
       "      <th>Promising Young Woman</th>\n",
       "      <td>1.00</td>\n",
       "      <td>1.00</td>\n",
       "      <td>0.57</td>\n",
       "      <td>0.07</td>\n",
       "      <td>0.0</td>\n",
       "    </tr>\n",
       "  </tbody>\n",
       "</table>\n",
       "</div>"
      ],
      "text/plain": [
       "title                  The Little Things  Promising Young Woman  \\\n",
       "title                                                             \n",
       "The Little Things                   1.00                   1.00   \n",
       "The White Tiger                     0.57                   0.57   \n",
       "The Dig                             0.07                   0.07   \n",
       "Soul                                0.00                   0.00   \n",
       "Wonder Woman 1984                   0.00                   0.00   \n",
       "Promising Young Woman               1.00                   1.00   \n",
       "\n",
       "title                  The White Tiger  The Dig  Wonder Woman 1984  \n",
       "title                                                               \n",
       "The Little Things                 0.57     0.07                0.0  \n",
       "The White Tiger                   1.00     0.12                0.0  \n",
       "The Dig                           0.12     1.00                0.0  \n",
       "Soul                              0.00     0.00                0.1  \n",
       "Wonder Woman 1984                 0.00     0.00                1.0  \n",
       "Promising Young Woman             0.57     0.07                0.0  "
      ]
     },
     "execution_count": 12,
     "metadata": {},
     "output_type": "execute_result"
    }
   ],
   "source": [
    "cosine_sim_df = pd.DataFrame(cosine_sim, index=df['title'], columns=df['title'])\n",
    "print('Shape:', cosine_sim_df.shape)\n",
    "cosine_sim_df.sample(5, axis=1).round(2)"
   ]
  },
  {
   "cell_type": "markdown",
   "metadata": {},
   "source": [
    "Now we have to define some logic to find the highest tf-idf scores for a given movie. I'll input i as a given movie, the similarity matrix M, the items dataframe and returns up to k recommendations:\n"
   ]
  },
  {
   "cell_type": "code",
   "execution_count": null,
   "metadata": {
    "ExecuteTime": {
     "end_time": "2021-02-15T03:43:45.272542Z",
     "start_time": "2021-02-15T03:43:45.264121Z"
    }
   },
   "outputs": [],
   "source": [
    "def genre_recommendations(i, M, items, k=7):\n",
    "    \"\"\"\n",
    "    Recommends movies based on a similarity dataframe\n",
    "\n",
    "    Parameters\n",
    "    ----------\n",
    "    i : str\n",
    "        Movie (index of the similarity dataframe)\n",
    "    M : pd.DataFrame\n",
    "        Similarity dataframe, symmetric, with movies as indices and columns\n",
    "    items : pd.DataFrame\n",
    "        Contains both the title and some other features used to define similarity\n",
    "    k : int\n",
    "        Amount of recommendations to return\n",
    "\n",
    "    \"\"\"\n",
    "    ix = M.loc[:,i].to_numpy().argpartition(range(-1,-k,-1))\n",
    "    closest = M.columns[ix[-1:-(k+2):-1]]\n",
    "    closest = closest.drop(i, errors='ignore')\n",
    "    return pd.DataFrame(closest).merge(items).head(k)"
   ]
  },
  {
   "cell_type": "markdown",
   "metadata": {},
   "source": [
    "## Recommendations for User 1:"
   ]
  },
  {
   "cell_type": "code",
   "execution_count": 34,
   "metadata": {
    "ExecuteTime": {
     "end_time": "2021-02-15T03:56:25.467705Z",
     "start_time": "2021-02-15T03:56:25.447784Z"
    }
   },
   "outputs": [
    {
     "data": {
      "text/html": [
       "<div>\n",
       "<style scoped>\n",
       "    .dataframe tbody tr th:only-of-type {\n",
       "        vertical-align: middle;\n",
       "    }\n",
       "\n",
       "    .dataframe tbody tr th {\n",
       "        vertical-align: top;\n",
       "    }\n",
       "\n",
       "    .dataframe thead th {\n",
       "        text-align: right;\n",
       "    }\n",
       "</style>\n",
       "<table border=\"1\" class=\"dataframe\">\n",
       "  <thead>\n",
       "    <tr style=\"text-align: right;\">\n",
       "      <th></th>\n",
       "      <th>UserID</th>\n",
       "      <th>1st Max</th>\n",
       "      <th>Max1Value</th>\n",
       "      <th>2nd Max</th>\n",
       "      <th>Max2Value</th>\n",
       "      <th>3rd Max</th>\n",
       "      <th>Max3Value</th>\n",
       "    </tr>\n",
       "  </thead>\n",
       "  <tbody>\n",
       "    <tr>\n",
       "      <th>0</th>\n",
       "      <td>1</td>\n",
       "      <td>The Dig</td>\n",
       "      <td>5.0</td>\n",
       "      <td>The White Tiger</td>\n",
       "      <td>4.0</td>\n",
       "      <td>The Little Things</td>\n",
       "      <td>3.0</td>\n",
       "    </tr>\n",
       "    <tr>\n",
       "      <th>1</th>\n",
       "      <td>2</td>\n",
       "      <td>Soul</td>\n",
       "      <td>5.0</td>\n",
       "      <td>Wonder Woman 1984</td>\n",
       "      <td>5.0</td>\n",
       "      <td>The Dig</td>\n",
       "      <td>4.0</td>\n",
       "    </tr>\n",
       "    <tr>\n",
       "      <th>2</th>\n",
       "      <td>3</td>\n",
       "      <td>The Little Things</td>\n",
       "      <td>5.0</td>\n",
       "      <td>The Dig</td>\n",
       "      <td>5.0</td>\n",
       "      <td>Soul</td>\n",
       "      <td>5.0</td>\n",
       "    </tr>\n",
       "    <tr>\n",
       "      <th>3</th>\n",
       "      <td>4</td>\n",
       "      <td>Promising Young Woman</td>\n",
       "      <td>5.0</td>\n",
       "      <td>Wonder Woman 1984</td>\n",
       "      <td>4.0</td>\n",
       "      <td>Soul</td>\n",
       "      <td>3.0</td>\n",
       "    </tr>\n",
       "    <tr>\n",
       "      <th>4</th>\n",
       "      <td>5</td>\n",
       "      <td>The Little Things</td>\n",
       "      <td>5.0</td>\n",
       "      <td>The White Tiger</td>\n",
       "      <td>5.0</td>\n",
       "      <td>The Dig</td>\n",
       "      <td>4.0</td>\n",
       "    </tr>\n",
       "    <tr>\n",
       "      <th>5</th>\n",
       "      <td>6</td>\n",
       "      <td>Promising Young Woman</td>\n",
       "      <td>5.0</td>\n",
       "      <td>Wonder Woman 1984</td>\n",
       "      <td>4.0</td>\n",
       "      <td>The Little Things</td>\n",
       "      <td>3.0</td>\n",
       "    </tr>\n",
       "    <tr>\n",
       "      <th>6</th>\n",
       "      <td>7</td>\n",
       "      <td>Wonder Woman 1984</td>\n",
       "      <td>4.0</td>\n",
       "      <td>The White Tiger</td>\n",
       "      <td>1.0</td>\n",
       "      <td>The Little Things</td>\n",
       "      <td>0.0</td>\n",
       "    </tr>\n",
       "  </tbody>\n",
       "</table>\n",
       "</div>"
      ],
      "text/plain": [
       "   UserID                1st Max  Max1Value            2nd Max  Max2Value  \\\n",
       "0       1                The Dig        5.0    The White Tiger        4.0   \n",
       "1       2                   Soul        5.0  Wonder Woman 1984        5.0   \n",
       "2       3      The Little Things        5.0            The Dig        5.0   \n",
       "3       4  Promising Young Woman        5.0  Wonder Woman 1984        4.0   \n",
       "4       5      The Little Things        5.0    The White Tiger        5.0   \n",
       "5       6  Promising Young Woman        5.0  Wonder Woman 1984        4.0   \n",
       "6       7      Wonder Woman 1984        4.0    The White Tiger        1.0   \n",
       "\n",
       "             3rd Max  Max3Value  \n",
       "0  The Little Things        3.0  \n",
       "1            The Dig        4.0  \n",
       "2               Soul        5.0  \n",
       "3               Soul        3.0  \n",
       "4            The Dig        4.0  \n",
       "5  The Little Things        3.0  \n",
       "6  The Little Things        0.0  "
      ]
     },
     "execution_count": 34,
     "metadata": {},
     "output_type": "execute_result"
    }
   ],
   "source": [
    "df_top"
   ]
  },
  {
   "cell_type": "code",
   "execution_count": 35,
   "metadata": {
    "ExecuteTime": {
     "end_time": "2021-02-15T03:57:18.504443Z",
     "start_time": "2021-02-15T03:57:18.492564Z"
    }
   },
   "outputs": [
    {
     "data": {
      "text/html": [
       "<div>\n",
       "<style scoped>\n",
       "    .dataframe tbody tr th:only-of-type {\n",
       "        vertical-align: middle;\n",
       "    }\n",
       "\n",
       "    .dataframe tbody tr th {\n",
       "        vertical-align: top;\n",
       "    }\n",
       "\n",
       "    .dataframe thead th {\n",
       "        text-align: right;\n",
       "    }\n",
       "</style>\n",
       "<table border=\"1\" class=\"dataframe\">\n",
       "  <thead>\n",
       "    <tr style=\"text-align: right;\">\n",
       "      <th></th>\n",
       "      <th>title</th>\n",
       "      <th>genre</th>\n",
       "    </tr>\n",
       "  </thead>\n",
       "  <tbody>\n",
       "    <tr>\n",
       "      <th>5</th>\n",
       "      <td>Promising Young Woman</td>\n",
       "      <td>Crime, Drama, Thriller</td>\n",
       "    </tr>\n",
       "  </tbody>\n",
       "</table>\n",
       "</div>"
      ],
      "text/plain": [
       "                   title                   genre\n",
       "5  Promising Young Woman  Crime, Drama, Thriller"
      ]
     },
     "execution_count": 35,
     "metadata": {},
     "output_type": "execute_result"
    }
   ],
   "source": [
    "df[df.title.eq('Promising Young Woman')]"
   ]
  },
  {
   "cell_type": "code",
   "execution_count": 36,
   "metadata": {
    "ExecuteTime": {
     "end_time": "2021-02-15T03:58:00.923383Z",
     "start_time": "2021-02-15T03:58:00.902988Z"
    }
   },
   "outputs": [
    {
     "data": {
      "text/html": [
       "<div>\n",
       "<style scoped>\n",
       "    .dataframe tbody tr th:only-of-type {\n",
       "        vertical-align: middle;\n",
       "    }\n",
       "\n",
       "    .dataframe tbody tr th {\n",
       "        vertical-align: top;\n",
       "    }\n",
       "\n",
       "    .dataframe thead th {\n",
       "        text-align: right;\n",
       "    }\n",
       "</style>\n",
       "<table border=\"1\" class=\"dataframe\">\n",
       "  <thead>\n",
       "    <tr style=\"text-align: right;\">\n",
       "      <th></th>\n",
       "      <th>title</th>\n",
       "      <th>genre</th>\n",
       "    </tr>\n",
       "  </thead>\n",
       "  <tbody>\n",
       "    <tr>\n",
       "      <th>0</th>\n",
       "      <td>The Little Things</td>\n",
       "      <td>Crime, Drama, Thriller</td>\n",
       "    </tr>\n",
       "    <tr>\n",
       "      <th>1</th>\n",
       "      <td>The White Tiger</td>\n",
       "      <td>Crime, Drama</td>\n",
       "    </tr>\n",
       "    <tr>\n",
       "      <th>2</th>\n",
       "      <td>The Dig</td>\n",
       "      <td>Biography, Drama, History</td>\n",
       "    </tr>\n",
       "    <tr>\n",
       "      <th>3</th>\n",
       "      <td>Wonder Woman 1984</td>\n",
       "      <td>Action, Adventure, Fantasy</td>\n",
       "    </tr>\n",
       "    <tr>\n",
       "      <th>4</th>\n",
       "      <td>Soul</td>\n",
       "      <td>Animation, Adventure, Comedy</td>\n",
       "    </tr>\n",
       "  </tbody>\n",
       "</table>\n",
       "</div>"
      ],
      "text/plain": [
       "               title                         genre\n",
       "0  The Little Things        Crime, Drama, Thriller\n",
       "1    The White Tiger                  Crime, Drama\n",
       "2            The Dig     Biography, Drama, History\n",
       "3  Wonder Woman 1984    Action, Adventure, Fantasy\n",
       "4               Soul  Animation, Adventure, Comedy"
      ]
     },
     "execution_count": 36,
     "metadata": {},
     "output_type": "execute_result"
    }
   ],
   "source": [
    "genre_recommendations('Promising Young Woman', cosine_sim_df, df[['title', 'genre']])\n"
   ]
  },
  {
   "cell_type": "markdown",
   "metadata": {},
   "source": [
    "As expected, the most similar movies are those which share the most genres."
   ]
  },
  {
   "cell_type": "markdown",
   "metadata": {},
   "source": [
    "## 3.1 Create Movie Description dataset\n",
    "\n",
    "Assignemnt requirement: Scrape movie descriptions from a web site. This could be anything from a single sentence to a full synopsis or a movie review.  Using tools like TF-IDF and (if you want) LDA, again determine the top movie that you would recommend to each participant that you are analyzing.\n"
   ]
  },
  {
   "cell_type": "code",
   "execution_count": 39,
   "metadata": {
    "ExecuteTime": {
     "end_time": "2021-02-15T04:01:55.780397Z",
     "start_time": "2021-02-15T04:01:55.762545Z"
    }
   },
   "outputs": [
    {
     "data": {
      "text/html": [
       "<div>\n",
       "<style scoped>\n",
       "    .dataframe tbody tr th:only-of-type {\n",
       "        vertical-align: middle;\n",
       "    }\n",
       "\n",
       "    .dataframe tbody tr th {\n",
       "        vertical-align: top;\n",
       "    }\n",
       "\n",
       "    .dataframe thead th {\n",
       "        text-align: right;\n",
       "    }\n",
       "</style>\n",
       "<table border=\"1\" class=\"dataframe\">\n",
       "  <thead>\n",
       "    <tr style=\"text-align: right;\">\n",
       "      <th></th>\n",
       "      <th>movie</th>\n",
       "      <th>description</th>\n",
       "    </tr>\n",
       "  </thead>\n",
       "  <tbody>\n",
       "    <tr>\n",
       "      <th>0</th>\n",
       "      <td>The Little Things</td>\n",
       "      <td>Kern County Deputy Sheriff Joe Deacon is sent ...</td>\n",
       "    </tr>\n",
       "    <tr>\n",
       "      <th>1</th>\n",
       "      <td>The White Tiger</td>\n",
       "      <td>An ambitious Indian driver uses his wit and cu...</td>\n",
       "    </tr>\n",
       "    <tr>\n",
       "      <th>2</th>\n",
       "      <td>The Dig</td>\n",
       "      <td>An archaeologist embarks on the historically i...</td>\n",
       "    </tr>\n",
       "    <tr>\n",
       "      <th>3</th>\n",
       "      <td>Soul</td>\n",
       "      <td>After landing the gig of a lifetime, a New Yor...</td>\n",
       "    </tr>\n",
       "    <tr>\n",
       "      <th>4</th>\n",
       "      <td>Wonder Woman 1984</td>\n",
       "      <td>Diana must contend with a work colleague and b...</td>\n",
       "    </tr>\n",
       "    <tr>\n",
       "      <th>5</th>\n",
       "      <td>Promising Young Woman</td>\n",
       "      <td>A young woman, traumatized by a tragic event i...</td>\n",
       "    </tr>\n",
       "  </tbody>\n",
       "</table>\n",
       "</div>"
      ],
      "text/plain": [
       "                   movie                                        description\n",
       "0      The Little Things  Kern County Deputy Sheriff Joe Deacon is sent ...\n",
       "1        The White Tiger  An ambitious Indian driver uses his wit and cu...\n",
       "2                The Dig  An archaeologist embarks on the historically i...\n",
       "3                   Soul  After landing the gig of a lifetime, a New Yor...\n",
       "4      Wonder Woman 1984  Diana must contend with a work colleague and b...\n",
       "5  Promising Young Woman  A young woman, traumatized by a tragic event i..."
      ]
     },
     "execution_count": 39,
     "metadata": {},
     "output_type": "execute_result"
    }
   ],
   "source": [
    "# create table for movie description\n",
    "data02 = {'movie':  ['The Little Things', 'The White Tiger','The Dig','Soul','Wonder Woman 1984','Promising Young Woman'],\n",
    "        'description': ['Kern County Deputy Sheriff Joe Deacon is sent to Los Angeles for what should have been a quick evidence-gathering assignment. Instead, he becomes embroiled in the search for a serial killer who is terrorizing the city.', \n",
    "                        'An ambitious Indian driver uses his wit and cunning to escape from poverty and rise to the top. An epic journey based on the New York Times bestseller.',\n",
    "                        'An archaeologist embarks on the historically important excavation of Sutton Hoo in 1938.',\n",
    "                        'After landing the gig of a lifetime, a New York jazz pianist suddenly finds himself trapped in a strange land between Earth and the afterlife.',\n",
    "                        'Diana must contend with a work colleague and businessman, whose desire for extreme wealth sends the world down a path of destruction, after an ancient artifact that grants wishes goes missing.',\n",
    "                        'A young woman, traumatized by a tragic event in her past, seeks out vengeance against those who crossed her path.']\n",
    "        }\n",
    "\n",
    "df_desc = pd.DataFrame (data02, columns = ['movie','description'])\n",
    "df_desc\n"
   ]
  },
  {
   "cell_type": "code",
   "execution_count": 40,
   "metadata": {
    "ExecuteTime": {
     "end_time": "2021-02-15T04:01:57.315594Z",
     "start_time": "2021-02-15T04:01:57.213414Z"
    }
   },
   "outputs": [
    {
     "data": {
      "text/html": [
       "<div>\n",
       "<style scoped>\n",
       "    .dataframe tbody tr th:only-of-type {\n",
       "        vertical-align: middle;\n",
       "    }\n",
       "\n",
       "    .dataframe tbody tr th {\n",
       "        vertical-align: top;\n",
       "    }\n",
       "\n",
       "    .dataframe thead th {\n",
       "        text-align: right;\n",
       "    }\n",
       "</style>\n",
       "<table border=\"1\" class=\"dataframe\">\n",
       "  <thead>\n",
       "    <tr style=\"text-align: right;\">\n",
       "      <th></th>\n",
       "      <th>movieID</th>\n",
       "      <th>movie</th>\n",
       "    </tr>\n",
       "  </thead>\n",
       "  <tbody>\n",
       "    <tr>\n",
       "      <th>0</th>\n",
       "      <td>101</td>\n",
       "      <td>The Little Things</td>\n",
       "    </tr>\n",
       "    <tr>\n",
       "      <th>1</th>\n",
       "      <td>102</td>\n",
       "      <td>The White Tiger</td>\n",
       "    </tr>\n",
       "    <tr>\n",
       "      <th>2</th>\n",
       "      <td>103</td>\n",
       "      <td>The Dig</td>\n",
       "    </tr>\n",
       "    <tr>\n",
       "      <th>3</th>\n",
       "      <td>104</td>\n",
       "      <td>Soul</td>\n",
       "    </tr>\n",
       "    <tr>\n",
       "      <th>4</th>\n",
       "      <td>105</td>\n",
       "      <td>Wonder Woman 1984</td>\n",
       "    </tr>\n",
       "    <tr>\n",
       "      <th>5</th>\n",
       "      <td>106</td>\n",
       "      <td>Promising Young Woman</td>\n",
       "    </tr>\n",
       "  </tbody>\n",
       "</table>\n",
       "</div>"
      ],
      "text/plain": [
       "   movieID                  movie\n",
       "0      101      The Little Things\n",
       "1      102        The White Tiger\n",
       "2      103                The Dig\n",
       "3      104                   Soul\n",
       "4      105      Wonder Woman 1984\n",
       "5      106  Promising Young Woman"
      ]
     },
     "execution_count": 40,
     "metadata": {},
     "output_type": "execute_result"
    }
   ],
   "source": [
    "# read movie ID\n",
    "movie = pd.read_csv('https://raw.githubusercontent.com/susanqisun/DAV6300/main/movieID.csv')\n",
    "movie"
   ]
  },
  {
   "cell_type": "code",
   "execution_count": 55,
   "metadata": {
    "ExecuteTime": {
     "end_time": "2021-02-15T04:10:50.242562Z",
     "start_time": "2021-02-15T04:10:50.221878Z"
    }
   },
   "outputs": [
    {
     "data": {
      "text/html": [
       "<div>\n",
       "<style scoped>\n",
       "    .dataframe tbody tr th:only-of-type {\n",
       "        vertical-align: middle;\n",
       "    }\n",
       "\n",
       "    .dataframe tbody tr th {\n",
       "        vertical-align: top;\n",
       "    }\n",
       "\n",
       "    .dataframe thead th {\n",
       "        text-align: right;\n",
       "    }\n",
       "</style>\n",
       "<table border=\"1\" class=\"dataframe\">\n",
       "  <thead>\n",
       "    <tr style=\"text-align: right;\">\n",
       "      <th></th>\n",
       "      <th>movieID</th>\n",
       "      <th>movie</th>\n",
       "      <th>description</th>\n",
       "    </tr>\n",
       "  </thead>\n",
       "  <tbody>\n",
       "    <tr>\n",
       "      <th>0</th>\n",
       "      <td>101</td>\n",
       "      <td>The Little Things</td>\n",
       "      <td>Kern County Deputy Sheriff Joe Deacon is sent ...</td>\n",
       "    </tr>\n",
       "    <tr>\n",
       "      <th>1</th>\n",
       "      <td>102</td>\n",
       "      <td>The White Tiger</td>\n",
       "      <td>An ambitious Indian driver uses his wit and cu...</td>\n",
       "    </tr>\n",
       "    <tr>\n",
       "      <th>2</th>\n",
       "      <td>103</td>\n",
       "      <td>The Dig</td>\n",
       "      <td>An archaeologist embarks on the historically i...</td>\n",
       "    </tr>\n",
       "    <tr>\n",
       "      <th>3</th>\n",
       "      <td>104</td>\n",
       "      <td>Soul</td>\n",
       "      <td>After landing the gig of a lifetime, a New Yor...</td>\n",
       "    </tr>\n",
       "    <tr>\n",
       "      <th>4</th>\n",
       "      <td>105</td>\n",
       "      <td>Wonder Woman 1984</td>\n",
       "      <td>Diana must contend with a work colleague and b...</td>\n",
       "    </tr>\n",
       "    <tr>\n",
       "      <th>5</th>\n",
       "      <td>106</td>\n",
       "      <td>Promising Young Woman</td>\n",
       "      <td>A young woman, traumatized by a tragic event i...</td>\n",
       "    </tr>\n",
       "  </tbody>\n",
       "</table>\n",
       "</div>"
      ],
      "text/plain": [
       "   movieID                  movie  \\\n",
       "0      101      The Little Things   \n",
       "1      102        The White Tiger   \n",
       "2      103                The Dig   \n",
       "3      104                   Soul   \n",
       "4      105      Wonder Woman 1984   \n",
       "5      106  Promising Young Woman   \n",
       "\n",
       "                                         description  \n",
       "0  Kern County Deputy Sheriff Joe Deacon is sent ...  \n",
       "1  An ambitious Indian driver uses his wit and cu...  \n",
       "2  An archaeologist embarks on the historically i...  \n",
       "3  After landing the gig of a lifetime, a New Yor...  \n",
       "4  Diana must contend with a work colleague and b...  \n",
       "5  A young woman, traumatized by a tragic event i...  "
      ]
     },
     "execution_count": 55,
     "metadata": {},
     "output_type": "execute_result"
    }
   ],
   "source": [
    "# merge together\n",
    "df_movie = pd.merge(left=movie, right=df_desc, how='outer')\n",
    "\n",
    "df_movie.sort_values(by='movie')\n",
    "df_movie"
   ]
  },
  {
   "cell_type": "markdown",
   "metadata": {},
   "source": [
    "## 3.2 Content based recommendation system : Using movie description\n",
    "\n",
    "Code reference: https://github.com/jalajthanaki/Movie_recommendation_engine/blob/master/Movie_recommendation_engine.ipynb"
   ]
  },
  {
   "cell_type": "code",
   "execution_count": 42,
   "metadata": {
    "ExecuteTime": {
     "end_time": "2021-02-15T04:02:56.283084Z",
     "start_time": "2021-02-15T04:02:56.270820Z"
    }
   },
   "outputs": [],
   "source": [
    "tf02 = TfidfVectorizer(analyzer='word',ngram_range=(1, 2),min_df=0, stop_words='english')\n",
    "tfidf_matrix02 = tf02.fit_transform(df_movie['description'])\n"
   ]
  },
  {
   "cell_type": "code",
   "execution_count": 43,
   "metadata": {
    "ExecuteTime": {
     "end_time": "2021-02-15T04:03:05.837505Z",
     "start_time": "2021-02-15T04:03:05.831136Z"
    }
   },
   "outputs": [
    {
     "data": {
      "text/plain": [
       "(6, 162)"
      ]
     },
     "execution_count": 43,
     "metadata": {},
     "output_type": "execute_result"
    }
   ],
   "source": [
    "tfidf_matrix02.shape\n"
   ]
  },
  {
   "cell_type": "code",
   "execution_count": 44,
   "metadata": {
    "ExecuteTime": {
     "end_time": "2021-02-15T04:05:37.994721Z",
     "start_time": "2021-02-15T04:05:37.988637Z"
    }
   },
   "outputs": [],
   "source": [
    "cosine_sim02 = cosine_similarity(tfidf_matrix02,tfidf_matrix02)"
   ]
  },
  {
   "cell_type": "code",
   "execution_count": 45,
   "metadata": {
    "ExecuteTime": {
     "end_time": "2021-02-15T04:06:10.766404Z",
     "start_time": "2021-02-15T04:06:10.759194Z"
    }
   },
   "outputs": [
    {
     "data": {
      "text/plain": [
       "array([1., 0., 0., 0., 0., 0.])"
      ]
     },
     "execution_count": 45,
     "metadata": {},
     "output_type": "execute_result"
    }
   ],
   "source": [
    "# We now have a pairwise cosine similarity matrix for all the movies in our dataset.\n",
    "cosine_sim02[0]"
   ]
  },
  {
   "cell_type": "code",
   "execution_count": 56,
   "metadata": {
    "ExecuteTime": {
     "end_time": "2021-02-15T04:10:56.268545Z",
     "start_time": "2021-02-15T04:10:56.261187Z"
    }
   },
   "outputs": [],
   "source": [
    "def get_recommendations(title):\n",
    "    idx = indices[title]\n",
    "    sim_scores = list(enumerate(cosine_sim02[idx]))\n",
    "    sim_scores = sorted(sim_scores, key=lambda x: x[1], reverse=True)\n",
    "    sim_scores = sim_scores[1:7]\n",
    "    movie_indices = [i[0] for i in sim_scores]\n",
    "    return titles.iloc[movie_indices]"
   ]
  },
  {
   "cell_type": "code",
   "execution_count": 57,
   "metadata": {
    "ExecuteTime": {
     "end_time": "2021-02-15T04:10:59.376929Z",
     "start_time": "2021-02-15T04:10:59.366645Z"
    }
   },
   "outputs": [
    {
     "data": {
      "text/plain": [
       "<bound method NDFrame.head of movie\n",
       "The Little Things        0\n",
       "The White Tiger          1\n",
       "The Dig                  2\n",
       "Soul                     3\n",
       "Wonder Woman 1984        4\n",
       "Promising Young Woman    5\n",
       "dtype: int64>"
      ]
     },
     "execution_count": 57,
     "metadata": {},
     "output_type": "execute_result"
    }
   ],
   "source": [
    "df_movie = df_movie.reset_index()\n",
    "titles = df_movie['movie']\n",
    "indices = pd.Series(df_movie.index, index=df_movie['movie'])\n",
    "indices.head"
   ]
  },
  {
   "cell_type": "code",
   "execution_count": 58,
   "metadata": {
    "ExecuteTime": {
     "end_time": "2021-02-15T04:11:06.388773Z",
     "start_time": "2021-02-15T04:11:06.380459Z"
    }
   },
   "outputs": [
    {
     "data": {
      "text/plain": [
       "4    Wonder Woman 1984\n",
       "0    The Little Things\n",
       "1      The White Tiger\n",
       "2              The Dig\n",
       "3                 Soul\n",
       "Name: movie, dtype: object"
      ]
     },
     "execution_count": 58,
     "metadata": {},
     "output_type": "execute_result"
    }
   ],
   "source": [
    "get_recommendations('Promising Young Woman')\n"
   ]
  },
  {
   "cell_type": "markdown",
   "metadata": {},
   "source": [
    "We see that for Promising Young Woman, our system recommends 'Wonder Woman 1984' as its top recommendation.\n",
    "\n",
    "### Compare Movie Description of the results:\n",
    "\n",
    "**'Promising Young Woman'**: 'A young woman, traumatized by a tragic event in her past, seeks out vengeance against those who crossed her path.'\n",
    "\n",
    "\n",
    "**'Wonder Woman 1984'**: Diana must contend with a work colleague and businessman, whose desire for extreme wealth sends the world down a path of destruction, after an ancient artifact that grants wishes goes missing.',\n",
    "\n",
    "\n"
   ]
  }
 ],
 "metadata": {
  "hide_input": false,
  "kernelspec": {
   "display_name": "Python 3",
   "language": "python",
   "name": "python3"
  },
  "language_info": {
   "codemirror_mode": {
    "name": "ipython",
    "version": 3
   },
   "file_extension": ".py",
   "mimetype": "text/x-python",
   "name": "python",
   "nbconvert_exporter": "python",
   "pygments_lexer": "ipython3",
   "version": "3.7.4"
  },
  "varInspector": {
   "cols": {
    "lenName": 16,
    "lenType": 16,
    "lenVar": 40
   },
   "kernels_config": {
    "python": {
     "delete_cmd_postfix": "",
     "delete_cmd_prefix": "del ",
     "library": "var_list.py",
     "varRefreshCmd": "print(var_dic_list())"
    },
    "r": {
     "delete_cmd_postfix": ") ",
     "delete_cmd_prefix": "rm(",
     "library": "var_list.r",
     "varRefreshCmd": "cat(var_dic_list()) "
    }
   },
   "types_to_exclude": [
    "module",
    "function",
    "builtin_function_or_method",
    "instance",
    "_Feature"
   ],
   "window_display": false
  }
 },
 "nbformat": 4,
 "nbformat_minor": 2
}
